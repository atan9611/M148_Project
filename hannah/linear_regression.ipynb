{
 "cells": [
  {
   "cell_type": "markdown",
   "metadata": {},
   "source": [
    "## Project Check-In 2: Linear Regression"
   ]
  },
  {
   "cell_type": "code",
   "execution_count": 60,
   "metadata": {},
   "outputs": [],
   "source": [
    "import pandas as pd \n",
    "import numpy as np\n",
    "import matplotlib.pyplot as plt\n",
    "import plotly.express as px\n",
    "import plotly.graph_objects as go\n",
    "from sklearn.metrics import mean_squared_error, mean_absolute_error, r2_score\n",
    "from sklearn.linear_model import LinearRegression\n",
    "from sklego.linear_model import LADRegression\n",
    "from sklearn.feature_selection import SequentialFeatureSelector"
   ]
  },
  {
   "cell_type": "code",
   "execution_count": 61,
   "metadata": {},
   "outputs": [
    {
     "data": {
      "text/plain": [
       "Index(['Unnamed: 0', 'track_id', 'artists', 'album_name', 'track_name',\n",
       "       'popularity', 'duration_ms', 'explicit', 'danceability', 'energy',\n",
       "       'key', 'loudness', 'mode', 'speechiness', 'acousticness',\n",
       "       'instrumentalness', 'liveness', 'valence', 'tempo', 'time_signature',\n",
       "       'track_genre'],\n",
       "      dtype='object')"
      ]
     },
     "execution_count": 61,
     "metadata": {},
     "output_type": "execute_result"
    }
   ],
   "source": [
    "spotify_cleaned = pd.read_excel('clean_data.xlsx')\n",
    "spotify_cleaned.columns"
   ]
  },
  {
   "cell_type": "code",
   "execution_count": 62,
   "metadata": {},
   "outputs": [
    {
     "data": {
      "text/html": [
       "<div>\n",
       "<style scoped>\n",
       "    .dataframe tbody tr th:only-of-type {\n",
       "        vertical-align: middle;\n",
       "    }\n",
       "\n",
       "    .dataframe tbody tr th {\n",
       "        vertical-align: top;\n",
       "    }\n",
       "\n",
       "    .dataframe thead th {\n",
       "        text-align: right;\n",
       "    }\n",
       "</style>\n",
       "<table border=\"1\" class=\"dataframe\">\n",
       "  <thead>\n",
       "    <tr style=\"text-align: right;\">\n",
       "      <th></th>\n",
       "      <th>explicit</th>\n",
       "      <th>danceability</th>\n",
       "      <th>energy</th>\n",
       "      <th>loudness</th>\n",
       "      <th>speechiness</th>\n",
       "      <th>acousticness</th>\n",
       "      <th>instrumentalness</th>\n",
       "      <th>liveness</th>\n",
       "      <th>valence</th>\n",
       "      <th>tempo</th>\n",
       "    </tr>\n",
       "  </thead>\n",
       "  <tbody>\n",
       "    <tr>\n",
       "      <th>explicit</th>\n",
       "      <td>NaN</td>\n",
       "      <td>NaN</td>\n",
       "      <td>NaN</td>\n",
       "      <td>NaN</td>\n",
       "      <td>0.325346</td>\n",
       "      <td>NaN</td>\n",
       "      <td>NaN</td>\n",
       "      <td>NaN</td>\n",
       "      <td>NaN</td>\n",
       "      <td>NaN</td>\n",
       "    </tr>\n",
       "    <tr>\n",
       "      <th>danceability</th>\n",
       "      <td>NaN</td>\n",
       "      <td>NaN</td>\n",
       "      <td>NaN</td>\n",
       "      <td>0.254835</td>\n",
       "      <td>NaN</td>\n",
       "      <td>NaN</td>\n",
       "      <td>NaN</td>\n",
       "      <td>NaN</td>\n",
       "      <td>0.484892</td>\n",
       "      <td>NaN</td>\n",
       "    </tr>\n",
       "    <tr>\n",
       "      <th>energy</th>\n",
       "      <td>NaN</td>\n",
       "      <td>NaN</td>\n",
       "      <td>NaN</td>\n",
       "      <td>0.759726</td>\n",
       "      <td>NaN</td>\n",
       "      <td>-0.733844</td>\n",
       "      <td>NaN</td>\n",
       "      <td>NaN</td>\n",
       "      <td>0.249962</td>\n",
       "      <td>0.247234</td>\n",
       "    </tr>\n",
       "    <tr>\n",
       "      <th>loudness</th>\n",
       "      <td>NaN</td>\n",
       "      <td>0.254835</td>\n",
       "      <td>0.759726</td>\n",
       "      <td>NaN</td>\n",
       "      <td>NaN</td>\n",
       "      <td>-0.582554</td>\n",
       "      <td>-0.430668</td>\n",
       "      <td>NaN</td>\n",
       "      <td>0.279826</td>\n",
       "      <td>0.213648</td>\n",
       "    </tr>\n",
       "    <tr>\n",
       "      <th>speechiness</th>\n",
       "      <td>0.325346</td>\n",
       "      <td>NaN</td>\n",
       "      <td>NaN</td>\n",
       "      <td>NaN</td>\n",
       "      <td>NaN</td>\n",
       "      <td>NaN</td>\n",
       "      <td>NaN</td>\n",
       "      <td>0.220905</td>\n",
       "      <td>NaN</td>\n",
       "      <td>NaN</td>\n",
       "    </tr>\n",
       "    <tr>\n",
       "      <th>acousticness</th>\n",
       "      <td>NaN</td>\n",
       "      <td>NaN</td>\n",
       "      <td>-0.733844</td>\n",
       "      <td>-0.582554</td>\n",
       "      <td>NaN</td>\n",
       "      <td>NaN</td>\n",
       "      <td>NaN</td>\n",
       "      <td>NaN</td>\n",
       "      <td>NaN</td>\n",
       "      <td>-0.217672</td>\n",
       "    </tr>\n",
       "    <tr>\n",
       "      <th>instrumentalness</th>\n",
       "      <td>NaN</td>\n",
       "      <td>NaN</td>\n",
       "      <td>NaN</td>\n",
       "      <td>-0.430668</td>\n",
       "      <td>NaN</td>\n",
       "      <td>NaN</td>\n",
       "      <td>NaN</td>\n",
       "      <td>NaN</td>\n",
       "      <td>-0.325794</td>\n",
       "      <td>NaN</td>\n",
       "    </tr>\n",
       "    <tr>\n",
       "      <th>liveness</th>\n",
       "      <td>NaN</td>\n",
       "      <td>NaN</td>\n",
       "      <td>NaN</td>\n",
       "      <td>NaN</td>\n",
       "      <td>0.220905</td>\n",
       "      <td>NaN</td>\n",
       "      <td>NaN</td>\n",
       "      <td>NaN</td>\n",
       "      <td>NaN</td>\n",
       "      <td>NaN</td>\n",
       "    </tr>\n",
       "    <tr>\n",
       "      <th>valence</th>\n",
       "      <td>NaN</td>\n",
       "      <td>0.484892</td>\n",
       "      <td>0.249962</td>\n",
       "      <td>0.279826</td>\n",
       "      <td>NaN</td>\n",
       "      <td>NaN</td>\n",
       "      <td>-0.325794</td>\n",
       "      <td>NaN</td>\n",
       "      <td>NaN</td>\n",
       "      <td>NaN</td>\n",
       "    </tr>\n",
       "    <tr>\n",
       "      <th>tempo</th>\n",
       "      <td>NaN</td>\n",
       "      <td>NaN</td>\n",
       "      <td>0.247234</td>\n",
       "      <td>0.213648</td>\n",
       "      <td>NaN</td>\n",
       "      <td>-0.217672</td>\n",
       "      <td>NaN</td>\n",
       "      <td>NaN</td>\n",
       "      <td>NaN</td>\n",
       "      <td>NaN</td>\n",
       "    </tr>\n",
       "  </tbody>\n",
       "</table>\n",
       "</div>"
      ],
      "text/plain": [
       "                  explicit  danceability  ...   valence     tempo\n",
       "explicit               NaN           NaN  ...       NaN       NaN\n",
       "danceability           NaN           NaN  ...  0.484892       NaN\n",
       "energy                 NaN           NaN  ...  0.249962  0.247234\n",
       "loudness               NaN      0.254835  ...  0.279826  0.213648\n",
       "speechiness       0.325346           NaN  ...       NaN       NaN\n",
       "acousticness           NaN           NaN  ...       NaN -0.217672\n",
       "instrumentalness       NaN           NaN  ... -0.325794       NaN\n",
       "liveness               NaN           NaN  ...       NaN       NaN\n",
       "valence                NaN      0.484892  ...       NaN       NaN\n",
       "tempo                  NaN           NaN  ...       NaN       NaN\n",
       "\n",
       "[10 rows x 10 columns]"
      ]
     },
     "execution_count": 62,
     "metadata": {},
     "output_type": "execute_result"
    }
   ],
   "source": [
    "# Print correlations to popularity based on numeric predictor variables\n",
    "correlations = spotify_cleaned.corr(numeric_only=True)\n",
    "correlations[correlations.abs() > 0.2].replace(1, np.nan).dropna(how='all', axis=1).dropna(how='all', axis=0)"
   ]
  },
  {
   "cell_type": "code",
   "execution_count": null,
   "metadata": {},
   "outputs": [],
   "source": []
  },
  {
   "cell_type": "markdown",
   "metadata": {},
   "source": [
    "We chose loudness as our response variable because the correlation matrix shows that it has the highest correlation with the highest number of other variables. "
   ]
  },
  {
   "cell_type": "code",
   "execution_count": 63,
   "metadata": {},
   "outputs": [],
   "source": [
    "# Split data into testing, validation, and training sets\n",
    "# 60% training, 20% validation, 20% testing\n",
    "\n",
    "training_data = spotify_cleaned.sample(frac=0.6, random_state=47)\n",
    "validation_data = spotify_cleaned.drop(training_data.index).sample(frac=0.5, random_state=47)\n",
    "testing_data = spotify_cleaned.drop(training_data.index).drop(validation_data.index)"
   ]
  },
  {
   "cell_type": "markdown",
   "metadata": {},
   "source": []
  },
  {
   "cell_type": "code",
   "execution_count": 64,
   "metadata": {},
   "outputs": [
    {
     "data": {
      "text/plain": [
       "(array([-4.31233799, -2.7860288 , 12.80024597, -1.15755635,  2.87059887,\n",
       "        -0.24312433]),\n",
       " np.float64(-16.272224418581))"
      ]
     },
     "execution_count": 64,
     "metadata": {},
     "output_type": "execute_result"
    }
   ],
   "source": [
    "vars = [\"instrumentalness\", \"speechiness\", \"energy\", \"valence\", \"danceability\", \"acousticness\"]\n",
    "response = \"loudness\"\n",
    "lad_fit = LADRegression()\n",
    "lad_fit.fit(training_data[vars], y=training_data[response])\n",
    "lad_fit.coef_, lad_fit.intercept_"
   ]
  },
  {
   "cell_type": "code",
   "execution_count": 65,
   "metadata": {},
   "outputs": [],
   "source": [
    "# For single predictor variable only\n",
    "# fig = px.scatter(training_data, x=vars[0], y=response)\n",
    "# fig.add_trace(go.Scatter(x=training_data[vars[0]], y=lad_fit.intercept_ + lad_fit.coef_[0] * training_data[vars[0]], mode='lines', name='LAD Fit'))"
   ]
  },
  {
   "cell_type": "code",
   "execution_count": 66,
   "metadata": {},
   "outputs": [
    {
     "data": {
      "text/plain": [
       "(array([-4.87876109, -3.82274955, 14.02495087, -1.23172707,  4.23668704,\n",
       "        -0.29770919]),\n",
       " np.float64(-17.892421374198385))"
      ]
     },
     "execution_count": 66,
     "metadata": {},
     "output_type": "execute_result"
    }
   ],
   "source": [
    "# LS Model\n",
    "ls_fit = LinearRegression()\n",
    "ls_fit.fit(X=training_data[vars], y=training_data[response])\n",
    "ls_fit.coef_, ls_fit.intercept_"
   ]
  },
  {
   "cell_type": "code",
   "execution_count": 67,
   "metadata": {},
   "outputs": [],
   "source": [
    "# Scatter plot for single predictor variable only\n",
    "# fig = px.scatter(training_data, x=vars[0], y=response)\n",
    "# fig.add_trace(go.Scatter(x=training_data[vars[0]], y=ls_fit.intercept_ + ls_fit.coef_[0] * training_data[vars[0]], mode='lines', name='LS Fit'))"
   ]
  },
  {
   "cell_type": "code",
   "execution_count": 68,
   "metadata": {},
   "outputs": [],
   "source": [
    "# # Select predictor variables\n",
    "# selector = SequentialFeatureSelector(ls_fit, n_features_to_select=2, director=\"forward\", scoring=\"neg_mean_squared_error\", cv=5)\n",
    "# selector.fit(training_data[vars], training_data[response])\n",
    "# selector.get_feature_names_out()"
   ]
  },
  {
   "cell_type": "code",
   "execution_count": 69,
   "metadata": {},
   "outputs": [],
   "source": [
    "pred_train_df = pd.DataFrame({'true': training_data[response], 'ls_pred': ls_fit.predict(training_data[vars]), 'lad_pred': lad_fit.predict(training_data[vars])})\n",
    "\n",
    "pred_val_df = pd.DataFrame({'true': validation_data[response], 'ls_pred': ls_fit.predict(validation_data[vars]), 'lad_pred': lad_fit.predict(validation_data[vars])})"
   ]
  },
  {
   "cell_type": "code",
   "execution_count": 70,
   "metadata": {},
   "outputs": [
    {
     "name": "stdout",
     "output_type": "stream",
     "text": [
      "Training LS rMSE: 2.823590696673957\n",
      "Training LS MAE: 2.023759078505459\n",
      "Training LS MAD: 1.5285941784908168\n",
      "Training LS correlation: 0.831285043268912\n",
      "Training LS R2: 0.6910348231625951\n",
      "Training LAD rMSE: 2.8814030501008787\n",
      "Training LAD MAE: 1.987007779424985\n",
      "Training LAD MAD: 1.4550285961532232\n",
      "Training LAD correlation: 0.8303052280698789\n",
      "Training LAD R2: 0.678253321806673\n"
     ]
    }
   ],
   "source": [
    "# calculate the rMSE, MAE, MAD, correlation, and R2 of the true price with the LS and LAD predictions\n",
    "print('Training LS rMSE:', np.sqrt(mean_squared_error(pred_train_df['true'], pred_train_df['ls_pred'])))\n",
    "print('Training LS MAE:', mean_absolute_error(pred_train_df['true'], pred_train_df['ls_pred']))\n",
    "print('Training LS MAD:', np.median(np.abs(pred_train_df['true'] - pred_train_df['ls_pred'])))\n",
    "print('Training LS correlation:', np.corrcoef(pred_train_df['true'], pred_train_df['ls_pred'])[0, 1])\n",
    "print('Training LS R2:', r2_score(pred_train_df['true'], pred_train_df['ls_pred']))\n",
    "\n",
    "print('Training LAD rMSE:', np.sqrt(mean_squared_error(pred_train_df['true'], pred_train_df['lad_pred'])))\n",
    "print('Training LAD MAE:', mean_absolute_error(pred_train_df['true'], pred_train_df['lad_pred']))\n",
    "print('Training LAD MAD:', np.median(np.abs(pred_train_df['true'] - pred_train_df['lad_pred'])))\n",
    "print('Training LAD correlation:', np.corrcoef(pred_train_df['true'], pred_train_df['lad_pred'])[0, 1])\n",
    "print('Training LAD R2:', r2_score(pred_train_df['true'], pred_train_df['lad_pred']))"
   ]
  },
  {
   "cell_type": "code",
   "execution_count": 71,
   "metadata": {},
   "outputs": [
    {
     "name": "stdout",
     "output_type": "stream",
     "text": [
      "Training LS rMSE: 2.9059976921267308\n",
      "Training LS MAE: 2.071505919089823\n",
      "Training LS MAD: 1.5587623471715415\n",
      "Training LS correlation: 0.8290252937130539\n",
      "Training LS R2: 0.6871310902579157\n",
      "Training LAD rMSE: 2.977191147512716\n",
      "Training LAD MAE: 2.033404221080465\n",
      "Training LAD MAD: 1.4660372130404506\n",
      "Training LAD correlation: 0.8278265234112687\n",
      "Training LAD R2: 0.6716134835918869\n"
     ]
    }
   ],
   "source": [
    "# calculate the rMSE, MAE, MAD, correlation, and R2 of the true price with the LS and LAD predictions\n",
    "print('Training LS rMSE:', np.sqrt(mean_squared_error(pred_val_df['true'], pred_val_df['ls_pred'])))\n",
    "print('Training LS MAE:', mean_absolute_error(pred_val_df['true'], pred_val_df['ls_pred']))\n",
    "print('Training LS MAD:', np.median(np.abs(pred_val_df['true'] - pred_val_df['ls_pred'])))\n",
    "print('Training LS correlation:', np.corrcoef(pred_val_df['true'], pred_val_df['ls_pred'])[0, 1])\n",
    "print('Training LS R2:', r2_score(pred_val_df['true'], pred_val_df['ls_pred']))\n",
    "\n",
    "print('Training LAD rMSE:', np.sqrt(mean_squared_error(pred_val_df['true'], pred_val_df['lad_pred'])))\n",
    "print('Training LAD MAE:', mean_absolute_error(pred_val_df['true'], pred_val_df['lad_pred']))\n",
    "print('Training LAD MAD:', np.median(np.abs(pred_val_df['true'] - pred_val_df['lad_pred'])))\n",
    "print('Training LAD correlation:', np.corrcoef(pred_val_df['true'], pred_val_df['lad_pred'])[0, 1])\n",
    "print('Training LAD R2:', r2_score(pred_val_df['true'], pred_val_df['lad_pred']))"
   ]
  }
 ],
 "metadata": {
  "kernelspec": {
   "display_name": ".venv",
   "language": "python",
   "name": "python3"
  },
  "language_info": {
   "codemirror_mode": {
    "name": "ipython",
    "version": 3
   },
   "file_extension": ".py",
   "mimetype": "text/x-python",
   "name": "python",
   "nbconvert_exporter": "python",
   "pygments_lexer": "ipython3",
   "version": "3.12.7"
  }
 },
 "nbformat": 4,
 "nbformat_minor": 2
}
