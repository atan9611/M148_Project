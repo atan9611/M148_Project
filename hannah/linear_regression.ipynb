{
 "cells": [
  {
   "cell_type": "markdown",
   "metadata": {},
   "source": [
    "## Project Check-In 2: Linear Regression"
   ]
  },
  {
   "cell_type": "code",
   "execution_count": 1,
   "metadata": {},
   "outputs": [],
   "source": [
    "import pandas as pd \n",
    "import numpy as np\n",
    "import matplotlib.pyplot as plt\n",
    "import plotly.express as px\n",
    "import plotly.graph_objects as go\n",
    "from sklearn.metrics import mean_squared_error, mean_absolute_error, r2_score\n",
    "from sklearn.linear_model import LinearRegression\n",
    "from sklego.linear_model import LADRegression\n",
    "from sklearn.feature_selection import SequentialFeatureSelector"
   ]
  },
  {
   "cell_type": "code",
   "execution_count": 2,
   "metadata": {},
   "outputs": [
    {
     "data": {
      "text/plain": [
       "Index(['Unnamed: 0', 'track_id', 'artists', 'album_name', 'track_name',\n",
       "       'popularity', 'duration_ms', 'explicit', 'danceability', 'energy',\n",
       "       'key', 'loudness', 'mode', 'speechiness', 'acousticness',\n",
       "       'instrumentalness', 'liveness', 'valence', 'tempo', 'time_signature',\n",
       "       'track_genre'],\n",
       "      dtype='object')"
      ]
     },
     "execution_count": 2,
     "metadata": {},
     "output_type": "execute_result"
    }
   ],
   "source": [
    "spotify_cleaned = pd.read_excel('clean_data.xlsx')\n",
    "spotify_cleaned.columns"
   ]
  },
  {
   "cell_type": "code",
   "execution_count": 3,
   "metadata": {},
   "outputs": [
    {
     "data": {
      "text/html": [
       "<div>\n",
       "<style scoped>\n",
       "    .dataframe tbody tr th:only-of-type {\n",
       "        vertical-align: middle;\n",
       "    }\n",
       "\n",
       "    .dataframe tbody tr th {\n",
       "        vertical-align: top;\n",
       "    }\n",
       "\n",
       "    .dataframe thead th {\n",
       "        text-align: right;\n",
       "    }\n",
       "</style>\n",
       "<table border=\"1\" class=\"dataframe\">\n",
       "  <thead>\n",
       "    <tr style=\"text-align: right;\">\n",
       "      <th></th>\n",
       "      <th>explicit</th>\n",
       "      <th>danceability</th>\n",
       "      <th>energy</th>\n",
       "      <th>loudness</th>\n",
       "      <th>speechiness</th>\n",
       "      <th>acousticness</th>\n",
       "      <th>instrumentalness</th>\n",
       "      <th>liveness</th>\n",
       "      <th>valence</th>\n",
       "      <th>tempo</th>\n",
       "    </tr>\n",
       "  </thead>\n",
       "  <tbody>\n",
       "    <tr>\n",
       "      <th>explicit</th>\n",
       "      <td>NaN</td>\n",
       "      <td>NaN</td>\n",
       "      <td>NaN</td>\n",
       "      <td>NaN</td>\n",
       "      <td>0.325346</td>\n",
       "      <td>NaN</td>\n",
       "      <td>NaN</td>\n",
       "      <td>NaN</td>\n",
       "      <td>NaN</td>\n",
       "      <td>NaN</td>\n",
       "    </tr>\n",
       "    <tr>\n",
       "      <th>danceability</th>\n",
       "      <td>NaN</td>\n",
       "      <td>NaN</td>\n",
       "      <td>NaN</td>\n",
       "      <td>0.254835</td>\n",
       "      <td>NaN</td>\n",
       "      <td>NaN</td>\n",
       "      <td>NaN</td>\n",
       "      <td>NaN</td>\n",
       "      <td>0.484892</td>\n",
       "      <td>NaN</td>\n",
       "    </tr>\n",
       "    <tr>\n",
       "      <th>energy</th>\n",
       "      <td>NaN</td>\n",
       "      <td>NaN</td>\n",
       "      <td>NaN</td>\n",
       "      <td>0.759726</td>\n",
       "      <td>NaN</td>\n",
       "      <td>-0.733844</td>\n",
       "      <td>NaN</td>\n",
       "      <td>NaN</td>\n",
       "      <td>0.249962</td>\n",
       "      <td>0.247234</td>\n",
       "    </tr>\n",
       "    <tr>\n",
       "      <th>loudness</th>\n",
       "      <td>NaN</td>\n",
       "      <td>0.254835</td>\n",
       "      <td>0.759726</td>\n",
       "      <td>NaN</td>\n",
       "      <td>NaN</td>\n",
       "      <td>-0.582554</td>\n",
       "      <td>-0.430668</td>\n",
       "      <td>NaN</td>\n",
       "      <td>0.279826</td>\n",
       "      <td>0.213648</td>\n",
       "    </tr>\n",
       "    <tr>\n",
       "      <th>speechiness</th>\n",
       "      <td>0.325346</td>\n",
       "      <td>NaN</td>\n",
       "      <td>NaN</td>\n",
       "      <td>NaN</td>\n",
       "      <td>NaN</td>\n",
       "      <td>NaN</td>\n",
       "      <td>NaN</td>\n",
       "      <td>0.220905</td>\n",
       "      <td>NaN</td>\n",
       "      <td>NaN</td>\n",
       "    </tr>\n",
       "    <tr>\n",
       "      <th>acousticness</th>\n",
       "      <td>NaN</td>\n",
       "      <td>NaN</td>\n",
       "      <td>-0.733844</td>\n",
       "      <td>-0.582554</td>\n",
       "      <td>NaN</td>\n",
       "      <td>NaN</td>\n",
       "      <td>NaN</td>\n",
       "      <td>NaN</td>\n",
       "      <td>NaN</td>\n",
       "      <td>-0.217672</td>\n",
       "    </tr>\n",
       "    <tr>\n",
       "      <th>instrumentalness</th>\n",
       "      <td>NaN</td>\n",
       "      <td>NaN</td>\n",
       "      <td>NaN</td>\n",
       "      <td>-0.430668</td>\n",
       "      <td>NaN</td>\n",
       "      <td>NaN</td>\n",
       "      <td>NaN</td>\n",
       "      <td>NaN</td>\n",
       "      <td>-0.325794</td>\n",
       "      <td>NaN</td>\n",
       "    </tr>\n",
       "    <tr>\n",
       "      <th>liveness</th>\n",
       "      <td>NaN</td>\n",
       "      <td>NaN</td>\n",
       "      <td>NaN</td>\n",
       "      <td>NaN</td>\n",
       "      <td>0.220905</td>\n",
       "      <td>NaN</td>\n",
       "      <td>NaN</td>\n",
       "      <td>NaN</td>\n",
       "      <td>NaN</td>\n",
       "      <td>NaN</td>\n",
       "    </tr>\n",
       "    <tr>\n",
       "      <th>valence</th>\n",
       "      <td>NaN</td>\n",
       "      <td>0.484892</td>\n",
       "      <td>0.249962</td>\n",
       "      <td>0.279826</td>\n",
       "      <td>NaN</td>\n",
       "      <td>NaN</td>\n",
       "      <td>-0.325794</td>\n",
       "      <td>NaN</td>\n",
       "      <td>NaN</td>\n",
       "      <td>NaN</td>\n",
       "    </tr>\n",
       "    <tr>\n",
       "      <th>tempo</th>\n",
       "      <td>NaN</td>\n",
       "      <td>NaN</td>\n",
       "      <td>0.247234</td>\n",
       "      <td>0.213648</td>\n",
       "      <td>NaN</td>\n",
       "      <td>-0.217672</td>\n",
       "      <td>NaN</td>\n",
       "      <td>NaN</td>\n",
       "      <td>NaN</td>\n",
       "      <td>NaN</td>\n",
       "    </tr>\n",
       "  </tbody>\n",
       "</table>\n",
       "</div>"
      ],
      "text/plain": [
       "                  explicit  danceability    energy  loudness  speechiness  \\\n",
       "explicit               NaN           NaN       NaN       NaN     0.325346   \n",
       "danceability           NaN           NaN       NaN  0.254835          NaN   \n",
       "energy                 NaN           NaN       NaN  0.759726          NaN   \n",
       "loudness               NaN      0.254835  0.759726       NaN          NaN   \n",
       "speechiness       0.325346           NaN       NaN       NaN          NaN   \n",
       "acousticness           NaN           NaN -0.733844 -0.582554          NaN   \n",
       "instrumentalness       NaN           NaN       NaN -0.430668          NaN   \n",
       "liveness               NaN           NaN       NaN       NaN     0.220905   \n",
       "valence                NaN      0.484892  0.249962  0.279826          NaN   \n",
       "tempo                  NaN           NaN  0.247234  0.213648          NaN   \n",
       "\n",
       "                  acousticness  instrumentalness  liveness   valence     tempo  \n",
       "explicit                   NaN               NaN       NaN       NaN       NaN  \n",
       "danceability               NaN               NaN       NaN  0.484892       NaN  \n",
       "energy               -0.733844               NaN       NaN  0.249962  0.247234  \n",
       "loudness             -0.582554         -0.430668       NaN  0.279826  0.213648  \n",
       "speechiness                NaN               NaN  0.220905       NaN       NaN  \n",
       "acousticness               NaN               NaN       NaN       NaN -0.217672  \n",
       "instrumentalness           NaN               NaN       NaN -0.325794       NaN  \n",
       "liveness                   NaN               NaN       NaN       NaN       NaN  \n",
       "valence                    NaN         -0.325794       NaN       NaN       NaN  \n",
       "tempo                -0.217672               NaN       NaN       NaN       NaN  "
      ]
     },
     "execution_count": 3,
     "metadata": {},
     "output_type": "execute_result"
    }
   ],
   "source": [
    "# Print correlations to popularity based on numeric predictor variables\n",
    "correlations = spotify_cleaned.corr(numeric_only=True)\n",
    "correlations[correlations.abs() > 0.2].replace(1, np.nan).dropna(how='all', axis=1).dropna(how='all', axis=0)"
   ]
  },
  {
   "cell_type": "code",
   "execution_count": null,
   "metadata": {},
   "outputs": [],
   "source": []
  },
  {
   "cell_type": "markdown",
   "metadata": {},
   "source": [
    "We chose loudness as our response variable because the correlation matrix shows that it has the highest correlation with the highest number of other variables. "
   ]
  },
  {
   "cell_type": "code",
   "execution_count": 4,
   "metadata": {},
   "outputs": [],
   "source": [
    "# Split data into testing, validation, and training sets\n",
    "# 60% training, 20% validation, 20% testing\n",
    "\n",
    "training_data = spotify_cleaned.sample(frac=0.6, random_state=47)\n",
    "validation_data = spotify_cleaned.drop(training_data.index).sample(frac=0.5, random_state=47)\n",
    "testing_data = spotify_cleaned.drop(training_data.index).drop(validation_data.index)"
   ]
  },
  {
   "cell_type": "markdown",
   "metadata": {},
   "source": []
  },
  {
   "cell_type": "code",
   "execution_count": 5,
   "metadata": {},
   "outputs": [
    {
     "data": {
      "text/plain": [
       "(array([-4.31233799, -2.7860288 , 12.80024597, -1.15755635,  2.87059887,\n",
       "        -0.24312433]),\n",
       " np.float64(-16.272224418581))"
      ]
     },
     "execution_count": 5,
     "metadata": {},
     "output_type": "execute_result"
    }
   ],
   "source": [
    "vars = [\"instrumentalness\", \"speechiness\", \"energy\", \"valence\", \"danceability\", \"acousticness\"]\n",
    "response = \"loudness\"\n",
    "lad_fit = LADRegression()\n",
    "lad_fit.fit(training_data[vars], y=training_data[response])\n",
    "lad_fit.coef_, lad_fit.intercept_"
   ]
  },
  {
   "cell_type": "code",
   "execution_count": 6,
   "metadata": {},
   "outputs": [],
   "source": [
    "# For single predictor variable only\n",
    "# fig = px.scatter(training_data, x=vars[0], y=response)\n",
    "# fig.add_trace(go.Scatter(x=training_data[vars[0]], y=lad_fit.intercept_ + lad_fit.coef_[0] * training_data[vars[0]], mode='lines', name='LAD Fit'))"
   ]
  },
  {
   "cell_type": "code",
   "execution_count": 7,
   "metadata": {},
   "outputs": [
    {
     "data": {
      "text/plain": [
       "(array([-4.87876109, -3.82274955, 14.02495087, -1.23172707,  4.23668704,\n",
       "        -0.29770919]),\n",
       " np.float64(-17.892421374198385))"
      ]
     },
     "execution_count": 7,
     "metadata": {},
     "output_type": "execute_result"
    }
   ],
   "source": [
    "# LS Model\n",
    "ls_fit = LinearRegression()\n",
    "ls_fit.fit(X=training_data[vars], y=training_data[response])\n",
    "ls_fit.coef_, ls_fit.intercept_"
   ]
  },
  {
   "cell_type": "code",
   "execution_count": 8,
   "metadata": {},
   "outputs": [],
   "source": [
    "# Scatter plot for single predictor variable only\n",
    "# fig = px.scatter(training_data, x=vars[0], y=response)\n",
    "# fig.add_trace(go.Scatter(x=training_data[vars[0]], y=ls_fit.intercept_ + ls_fit.coef_[0] * training_data[vars[0]], mode='lines', name='LS Fit'))"
   ]
  },
  {
   "cell_type": "code",
   "execution_count": 9,
   "metadata": {},
   "outputs": [],
   "source": [
    "# # Select predictor variables\n",
    "# selector = SequentialFeatureSelector(ls_fit, n_features_to_select=2, director=\"forward\", scoring=\"neg_mean_squared_error\", cv=5)\n",
    "# selector.fit(training_data[vars], training_data[response])\n",
    "# selector.get_feature_names_out()"
   ]
  },
  {
   "cell_type": "code",
   "execution_count": 10,
   "metadata": {},
   "outputs": [],
   "source": [
    "pred_train_df = pd.DataFrame({'true': training_data[response], 'ls_pred': ls_fit.predict(training_data[vars]), 'lad_pred': lad_fit.predict(training_data[vars])})\n",
    "\n",
    "pred_val_df = pd.DataFrame({'true': validation_data[response], 'ls_pred': ls_fit.predict(validation_data[vars]), 'lad_pred': lad_fit.predict(validation_data[vars])})"
   ]
  },
  {
   "cell_type": "code",
   "execution_count": 11,
   "metadata": {},
   "outputs": [
    {
     "name": "stdout",
     "output_type": "stream",
     "text": [
      "Training LS rMSE: 2.823590696673957\n",
      "Training LS MAE: 2.023759078505459\n",
      "Training LS MAD: 1.5285941784908168\n",
      "Training LS correlation: 0.831285043268912\n",
      "Training LS R2: 0.6910348231625951\n",
      "Training LAD rMSE: 2.8814030501008787\n",
      "Training LAD MAE: 1.987007779424985\n",
      "Training LAD MAD: 1.4550285961532232\n",
      "Training LAD correlation: 0.8303052280698789\n",
      "Training LAD R2: 0.678253321806673\n"
     ]
    }
   ],
   "source": [
    "# calculate the rMSE, MAE, MAD, correlation, and R2 of the true price with the LS and LAD predictions\n",
    "print('Training LS rMSE:', np.sqrt(mean_squared_error(pred_train_df['true'], pred_train_df['ls_pred'])))\n",
    "print('Training LS MAE:', mean_absolute_error(pred_train_df['true'], pred_train_df['ls_pred']))\n",
    "print('Training LS MAD:', np.median(np.abs(pred_train_df['true'] - pred_train_df['ls_pred'])))\n",
    "print('Training LS correlation:', np.corrcoef(pred_train_df['true'], pred_train_df['ls_pred'])[0, 1])\n",
    "print('Training LS R2:', r2_score(pred_train_df['true'], pred_train_df['ls_pred']))\n",
    "\n",
    "print('Training LAD rMSE:', np.sqrt(mean_squared_error(pred_train_df['true'], pred_train_df['lad_pred'])))\n",
    "print('Training LAD MAE:', mean_absolute_error(pred_train_df['true'], pred_train_df['lad_pred']))\n",
    "print('Training LAD MAD:', np.median(np.abs(pred_train_df['true'] - pred_train_df['lad_pred'])))\n",
    "print('Training LAD correlation:', np.corrcoef(pred_train_df['true'], pred_train_df['lad_pred'])[0, 1])\n",
    "print('Training LAD R2:', r2_score(pred_train_df['true'], pred_train_df['lad_pred']))"
   ]
  },
  {
   "cell_type": "code",
   "execution_count": 12,
   "metadata": {},
   "outputs": [
    {
     "name": "stdout",
     "output_type": "stream",
     "text": [
      "Training LS rMSE: 2.9059976921267308\n",
      "Training LS MAE: 2.071505919089823\n",
      "Training LS MAD: 1.5587623471715415\n",
      "Training LS correlation: 0.8290252937130539\n",
      "Training LS R2: 0.6871310902579157\n",
      "Training LAD rMSE: 2.977191147512716\n",
      "Training LAD MAE: 2.033404221080465\n",
      "Training LAD MAD: 1.4660372130404506\n",
      "Training LAD correlation: 0.8278265234112687\n",
      "Training LAD R2: 0.6716134835918869\n"
     ]
    }
   ],
   "source": [
    "# calculate the rMSE, MAE, MAD, correlation, and R2 of the true price with the LS and LAD predictions\n",
    "print('Training LS rMSE:', np.sqrt(mean_squared_error(pred_val_df['true'], pred_val_df['ls_pred'])))\n",
    "print('Training LS MAE:', mean_absolute_error(pred_val_df['true'], pred_val_df['ls_pred']))\n",
    "print('Training LS MAD:', np.median(np.abs(pred_val_df['true'] - pred_val_df['ls_pred'])))\n",
    "print('Training LS correlation:', np.corrcoef(pred_val_df['true'], pred_val_df['ls_pred'])[0, 1])\n",
    "print('Training LS R2:', r2_score(pred_val_df['true'], pred_val_df['ls_pred']))\n",
    "\n",
    "print('Training LAD rMSE:', np.sqrt(mean_squared_error(pred_val_df['true'], pred_val_df['lad_pred'])))\n",
    "print('Training LAD MAE:', mean_absolute_error(pred_val_df['true'], pred_val_df['lad_pred']))\n",
    "print('Training LAD MAD:', np.median(np.abs(pred_val_df['true'] - pred_val_df['lad_pred'])))\n",
    "print('Training LAD correlation:', np.corrcoef(pred_val_df['true'], pred_val_df['lad_pred'])[0, 1])\n",
    "print('Training LAD R2:', r2_score(pred_val_df['true'], pred_val_df['lad_pred']))"
   ]
  },
  {
   "cell_type": "code",
   "execution_count": 13,
   "metadata": {},
   "outputs": [],
   "source": [
    "from sklearn.linear_model import  Ridge, Lasso\n",
    "from sklearn.model_selection import cross_val_score, cross_validate\n"
   ]
  },
  {
   "cell_type": "code",
   "execution_count": 16,
   "metadata": {},
   "outputs": [],
   "source": [
    "# change this\n",
    "\n",
    "X = training_data.drop(columns=['loudness'])[vars]\n",
    "# scale the predictors\n",
    "X_std = (X - X.mean()) / X.std()\n",
    "y = training_data['loudness']"
   ]
  },
  {
   "cell_type": "code",
   "execution_count": 19,
   "metadata": {},
   "outputs": [
    {
     "ename": "ValueError",
     "evalue": "Mime type rendering requires nbformat>=4.2.0 but it is not installed",
     "output_type": "error",
     "traceback": [
      "\u001b[1;31m---------------------------------------------------------------------------\u001b[0m",
      "\u001b[1;31mValueError\u001b[0m                                Traceback (most recent call last)",
      "File \u001b[1;32mc:\\Users\\hbken\\OneDrive\\Desktop\\School\\2024-25\\CS M148\\Project\\.venv\\Lib\\site-packages\\IPython\\core\\formatters.py:925\u001b[0m, in \u001b[0;36mIPythonDisplayFormatter.__call__\u001b[1;34m(self, obj)\u001b[0m\n\u001b[0;32m    923\u001b[0m method \u001b[38;5;241m=\u001b[39m get_real_method(obj, \u001b[38;5;28mself\u001b[39m\u001b[38;5;241m.\u001b[39mprint_method)\n\u001b[0;32m    924\u001b[0m \u001b[38;5;28;01mif\u001b[39;00m method \u001b[38;5;129;01mis\u001b[39;00m \u001b[38;5;129;01mnot\u001b[39;00m \u001b[38;5;28;01mNone\u001b[39;00m:\n\u001b[1;32m--> 925\u001b[0m     \u001b[43mmethod\u001b[49m\u001b[43m(\u001b[49m\u001b[43m)\u001b[49m\n\u001b[0;32m    926\u001b[0m     \u001b[38;5;28;01mreturn\u001b[39;00m \u001b[38;5;28;01mTrue\u001b[39;00m\n",
      "File \u001b[1;32mc:\\Users\\hbken\\OneDrive\\Desktop\\School\\2024-25\\CS M148\\Project\\.venv\\Lib\\site-packages\\plotly\\basedatatypes.py:832\u001b[0m, in \u001b[0;36mBaseFigure._ipython_display_\u001b[1;34m(self)\u001b[0m\n\u001b[0;32m    829\u001b[0m \u001b[38;5;28;01mimport\u001b[39;00m \u001b[38;5;21;01mplotly\u001b[39;00m\u001b[38;5;21;01m.\u001b[39;00m\u001b[38;5;21;01mio\u001b[39;00m \u001b[38;5;28;01mas\u001b[39;00m \u001b[38;5;21;01mpio\u001b[39;00m\n\u001b[0;32m    831\u001b[0m \u001b[38;5;28;01mif\u001b[39;00m pio\u001b[38;5;241m.\u001b[39mrenderers\u001b[38;5;241m.\u001b[39mrender_on_display \u001b[38;5;129;01mand\u001b[39;00m pio\u001b[38;5;241m.\u001b[39mrenderers\u001b[38;5;241m.\u001b[39mdefault:\n\u001b[1;32m--> 832\u001b[0m     \u001b[43mpio\u001b[49m\u001b[38;5;241;43m.\u001b[39;49m\u001b[43mshow\u001b[49m\u001b[43m(\u001b[49m\u001b[38;5;28;43mself\u001b[39;49m\u001b[43m)\u001b[49m\n\u001b[0;32m    833\u001b[0m \u001b[38;5;28;01melse\u001b[39;00m:\n\u001b[0;32m    834\u001b[0m     \u001b[38;5;28mprint\u001b[39m(\u001b[38;5;28mrepr\u001b[39m(\u001b[38;5;28mself\u001b[39m))\n",
      "File \u001b[1;32mc:\\Users\\hbken\\OneDrive\\Desktop\\School\\2024-25\\CS M148\\Project\\.venv\\Lib\\site-packages\\plotly\\io\\_renderers.py:394\u001b[0m, in \u001b[0;36mshow\u001b[1;34m(fig, renderer, validate, **kwargs)\u001b[0m\n\u001b[0;32m    389\u001b[0m         \u001b[38;5;28;01mraise\u001b[39;00m \u001b[38;5;167;01mValueError\u001b[39;00m(\n\u001b[0;32m    390\u001b[0m             \u001b[38;5;124m\"\u001b[39m\u001b[38;5;124mMime type rendering requires ipython but it is not installed\u001b[39m\u001b[38;5;124m\"\u001b[39m\n\u001b[0;32m    391\u001b[0m         )\n\u001b[0;32m    393\u001b[0m     \u001b[38;5;28;01mif\u001b[39;00m \u001b[38;5;129;01mnot\u001b[39;00m nbformat \u001b[38;5;129;01mor\u001b[39;00m Version(nbformat\u001b[38;5;241m.\u001b[39m__version__) \u001b[38;5;241m<\u001b[39m Version(\u001b[38;5;124m\"\u001b[39m\u001b[38;5;124m4.2.0\u001b[39m\u001b[38;5;124m\"\u001b[39m):\n\u001b[1;32m--> 394\u001b[0m         \u001b[38;5;28;01mraise\u001b[39;00m \u001b[38;5;167;01mValueError\u001b[39;00m(\n\u001b[0;32m    395\u001b[0m             \u001b[38;5;124m\"\u001b[39m\u001b[38;5;124mMime type rendering requires nbformat>=4.2.0 but it is not installed\u001b[39m\u001b[38;5;124m\"\u001b[39m\n\u001b[0;32m    396\u001b[0m         )\n\u001b[0;32m    398\u001b[0m     ipython_display\u001b[38;5;241m.\u001b[39mdisplay(bundle, raw\u001b[38;5;241m=\u001b[39m\u001b[38;5;28;01mTrue\u001b[39;00m)\n\u001b[0;32m    400\u001b[0m \u001b[38;5;66;03m# external renderers\u001b[39;00m\n",
      "\u001b[1;31mValueError\u001b[0m: Mime type rendering requires nbformat>=4.2.0 but it is not installed"
     ]
    },
    {
     "data": {
      "application/vnd.plotly.v1+json": {
       "config": {
        "plotlyServerURL": "https://plot.ly"
       },
       "data": [
        {
         "hovertemplate": "log_alpha=%{x}<br>test_mse=%{y}<extra></extra>",
         "legendgroup": "",
         "line": {
          "color": "#636efa",
          "dash": "solid"
         },
         "marker": {
          "symbol": "circle"
         },
         "mode": "lines",
         "name": "",
         "orientation": "v",
         "showlegend": false,
         "type": "scatter",
         "x": [
          -2.3025850929940455,
          -2.139776046014669,
          -1.9769669990352918,
          -1.8141579520559146,
          -1.6513489050765378,
          -1.4885398580971607,
          -1.325730811117784,
          -1.162921764138407,
          -1.00011271715903,
          -0.837303670179653,
          -0.6744946232002759,
          -0.511685576220899,
          -0.34887652924152224,
          -0.18606748226214534,
          -0.023258435282768306,
          0.13955061169660865,
          0.3023596586759857,
          0.4651687056553626,
          0.6279777526347396,
          0.7907867996141167,
          0.9535958465934936,
          1.1164048935728705,
          1.2792139405522478,
          1.4420229875316246,
          1.6048320345110012,
          1.7676410814903782,
          1.930450128469755,
          2.0932591754491323,
          2.2560682224285094,
          2.4188772694078864,
          2.581686316387263,
          2.7444953633666405,
          2.907304410346017,
          3.0701134573253936,
          3.232922504304771,
          3.3957315512841477,
          3.558540598263525,
          3.7213496452429013,
          3.884158692222279,
          4.046967739201656,
          4.209776786181033,
          4.372585833160409,
          4.535394880139787,
          4.698203927119163,
          4.861012974098541,
          5.023822021077917,
          5.186631068057295,
          5.349440115036671,
          5.512249162016048,
          5.675058208995425,
          5.8378672559748015,
          6.000676302954179,
          6.163485349933556,
          6.3262943969129335,
          6.48910344389231,
          6.651912490871688,
          6.814721537851064,
          6.977530584830442,
          7.140339631809819,
          7.303148678789194,
          7.465957725768572,
          7.62876677274795,
          7.791575819727327,
          7.954384866706702,
          8.11719391368608,
          8.280002960665458,
          8.442812007644832,
          8.60562105462421,
          8.768430101603588,
          8.931239148582966,
          9.09404819556234,
          9.256857242541718,
          9.419666289521096,
          9.582475336500472,
          9.745284383479849,
          9.908093430459227,
          10.070902477438604,
          10.23371152441798,
          10.396520571397357,
          10.559329618376735,
          10.722138665356113,
          10.884947712335487,
          11.047756759314865,
          11.210565806294243,
          11.373374853273619,
          11.536183900252995,
          11.698992947232373,
          11.861801994211751,
          12.024611041191127,
          12.187420088170503,
          12.350229135149881,
          12.513038182129257,
          12.675847229108635,
          12.838656276088011,
          13.00146532306739,
          13.164274370046765,
          13.327083417026142,
          13.48989246400552,
          13.652701510984896,
          13.815510557964274
         ],
         "xaxis": "x",
         "y": [
          2.823899731264421,
          2.8238997314729537,
          2.8238997317206773,
          2.8238997320154153,
          2.8238997323667148,
          2.8238997327862907,
          2.823899733288586,
          2.8238997338915093,
          2.823899734617403,
          2.8238997354943054,
          2.8238997365576397,
          2.823899737852448,
          2.823899739436382,
          2.823899741383724,
          2.8238997437908013,
          2.8238997467833142,
          2.8238997505262726,
          2.8238997552375222,
          2.82389976120618,
          2.823899768817834,
          2.8238997785890354,
          2.8238997912145805,
          2.8238998076324338,
          2.8238998291129356,
          2.8238998573815275,
          2.8238998947876968,
          2.8238999445376995,
          2.8239000110152963,
          2.8239001002239514,
          2.823900220396646,
          2.823900382836963,
          2.823900603079209,
          2.8239009024884765,
          2.823901310467112,
          2.823901867496534,
          2.823902629328982,
          2.823903672760795,
          2.823905103578505,
          2.823907067486246,
          2.8239097651174494,
          2.823913472631618,
          2.8239185699316227,
          2.8239255792517133,
          2.8239352178151624,
          2.823948469509438,
          2.8239666821540395,
          2.8239916990293463,
          2.8240260359844465,
          2.8240731187271426,
          2.8241375988637185,
          2.8242257718654273,
          2.8243461252185083,
          2.8245100501579783,
          2.8247327548324543,
          2.825034419241491,
          2.825441630937029,
          2.8259891326860074,
          2.826721895841925,
          2.827697502690152,
          2.828988774965441,
          2.8306865241218935,
          2.8329022269124837,
          2.8357703605796285,
          2.839450088792172,
          2.8441260050721553,
          2.8500077503991528,
          2.8573285500314882,
          2.8663430524741123,
          2.8773252371182023,
          2.890567457929447,
          2.906381733696291,
          2.925104013124024,
          2.9471012545534574,
          2.9727798447345037,
          3.002592407096538,
          3.0370388335677267,
          3.076656878457153,
          3.121998262373954,
          3.1735881378717155,
          3.2318688705163945,
          3.2971329468881185,
          3.369453636563931,
          3.448624755878427,
          3.5341214653626962,
          3.6250918473990965,
          3.7203842019996514,
          3.8186086050917565,
          3.9182249471835804,
          4.017645092314803,
          4.115335067669831,
          4.209904486315826,
          4.300174017593395,
          4.385216441652988,
          4.464371408368605,
          4.53723755012896,
          4.603647651168346,
          4.663633188565518,
          4.71738406581159,
          4.76520820621547,
          4.807494275728551
         ],
         "yaxis": "y"
        }
       ],
       "layout": {
        "legend": {
         "tracegroupgap": 0
        },
        "template": {
         "data": {
          "bar": [
           {
            "error_x": {
             "color": "#2a3f5f"
            },
            "error_y": {
             "color": "#2a3f5f"
            },
            "marker": {
             "line": {
              "color": "#E5ECF6",
              "width": 0.5
             },
             "pattern": {
              "fillmode": "overlay",
              "size": 10,
              "solidity": 0.2
             }
            },
            "type": "bar"
           }
          ],
          "barpolar": [
           {
            "marker": {
             "line": {
              "color": "#E5ECF6",
              "width": 0.5
             },
             "pattern": {
              "fillmode": "overlay",
              "size": 10,
              "solidity": 0.2
             }
            },
            "type": "barpolar"
           }
          ],
          "carpet": [
           {
            "aaxis": {
             "endlinecolor": "#2a3f5f",
             "gridcolor": "white",
             "linecolor": "white",
             "minorgridcolor": "white",
             "startlinecolor": "#2a3f5f"
            },
            "baxis": {
             "endlinecolor": "#2a3f5f",
             "gridcolor": "white",
             "linecolor": "white",
             "minorgridcolor": "white",
             "startlinecolor": "#2a3f5f"
            },
            "type": "carpet"
           }
          ],
          "choropleth": [
           {
            "colorbar": {
             "outlinewidth": 0,
             "ticks": ""
            },
            "type": "choropleth"
           }
          ],
          "contour": [
           {
            "colorbar": {
             "outlinewidth": 0,
             "ticks": ""
            },
            "colorscale": [
             [
              0,
              "#0d0887"
             ],
             [
              0.1111111111111111,
              "#46039f"
             ],
             [
              0.2222222222222222,
              "#7201a8"
             ],
             [
              0.3333333333333333,
              "#9c179e"
             ],
             [
              0.4444444444444444,
              "#bd3786"
             ],
             [
              0.5555555555555556,
              "#d8576b"
             ],
             [
              0.6666666666666666,
              "#ed7953"
             ],
             [
              0.7777777777777778,
              "#fb9f3a"
             ],
             [
              0.8888888888888888,
              "#fdca26"
             ],
             [
              1,
              "#f0f921"
             ]
            ],
            "type": "contour"
           }
          ],
          "contourcarpet": [
           {
            "colorbar": {
             "outlinewidth": 0,
             "ticks": ""
            },
            "type": "contourcarpet"
           }
          ],
          "heatmap": [
           {
            "colorbar": {
             "outlinewidth": 0,
             "ticks": ""
            },
            "colorscale": [
             [
              0,
              "#0d0887"
             ],
             [
              0.1111111111111111,
              "#46039f"
             ],
             [
              0.2222222222222222,
              "#7201a8"
             ],
             [
              0.3333333333333333,
              "#9c179e"
             ],
             [
              0.4444444444444444,
              "#bd3786"
             ],
             [
              0.5555555555555556,
              "#d8576b"
             ],
             [
              0.6666666666666666,
              "#ed7953"
             ],
             [
              0.7777777777777778,
              "#fb9f3a"
             ],
             [
              0.8888888888888888,
              "#fdca26"
             ],
             [
              1,
              "#f0f921"
             ]
            ],
            "type": "heatmap"
           }
          ],
          "heatmapgl": [
           {
            "colorbar": {
             "outlinewidth": 0,
             "ticks": ""
            },
            "colorscale": [
             [
              0,
              "#0d0887"
             ],
             [
              0.1111111111111111,
              "#46039f"
             ],
             [
              0.2222222222222222,
              "#7201a8"
             ],
             [
              0.3333333333333333,
              "#9c179e"
             ],
             [
              0.4444444444444444,
              "#bd3786"
             ],
             [
              0.5555555555555556,
              "#d8576b"
             ],
             [
              0.6666666666666666,
              "#ed7953"
             ],
             [
              0.7777777777777778,
              "#fb9f3a"
             ],
             [
              0.8888888888888888,
              "#fdca26"
             ],
             [
              1,
              "#f0f921"
             ]
            ],
            "type": "heatmapgl"
           }
          ],
          "histogram": [
           {
            "marker": {
             "pattern": {
              "fillmode": "overlay",
              "size": 10,
              "solidity": 0.2
             }
            },
            "type": "histogram"
           }
          ],
          "histogram2d": [
           {
            "colorbar": {
             "outlinewidth": 0,
             "ticks": ""
            },
            "colorscale": [
             [
              0,
              "#0d0887"
             ],
             [
              0.1111111111111111,
              "#46039f"
             ],
             [
              0.2222222222222222,
              "#7201a8"
             ],
             [
              0.3333333333333333,
              "#9c179e"
             ],
             [
              0.4444444444444444,
              "#bd3786"
             ],
             [
              0.5555555555555556,
              "#d8576b"
             ],
             [
              0.6666666666666666,
              "#ed7953"
             ],
             [
              0.7777777777777778,
              "#fb9f3a"
             ],
             [
              0.8888888888888888,
              "#fdca26"
             ],
             [
              1,
              "#f0f921"
             ]
            ],
            "type": "histogram2d"
           }
          ],
          "histogram2dcontour": [
           {
            "colorbar": {
             "outlinewidth": 0,
             "ticks": ""
            },
            "colorscale": [
             [
              0,
              "#0d0887"
             ],
             [
              0.1111111111111111,
              "#46039f"
             ],
             [
              0.2222222222222222,
              "#7201a8"
             ],
             [
              0.3333333333333333,
              "#9c179e"
             ],
             [
              0.4444444444444444,
              "#bd3786"
             ],
             [
              0.5555555555555556,
              "#d8576b"
             ],
             [
              0.6666666666666666,
              "#ed7953"
             ],
             [
              0.7777777777777778,
              "#fb9f3a"
             ],
             [
              0.8888888888888888,
              "#fdca26"
             ],
             [
              1,
              "#f0f921"
             ]
            ],
            "type": "histogram2dcontour"
           }
          ],
          "mesh3d": [
           {
            "colorbar": {
             "outlinewidth": 0,
             "ticks": ""
            },
            "type": "mesh3d"
           }
          ],
          "parcoords": [
           {
            "line": {
             "colorbar": {
              "outlinewidth": 0,
              "ticks": ""
             }
            },
            "type": "parcoords"
           }
          ],
          "pie": [
           {
            "automargin": true,
            "type": "pie"
           }
          ],
          "scatter": [
           {
            "fillpattern": {
             "fillmode": "overlay",
             "size": 10,
             "solidity": 0.2
            },
            "type": "scatter"
           }
          ],
          "scatter3d": [
           {
            "line": {
             "colorbar": {
              "outlinewidth": 0,
              "ticks": ""
             }
            },
            "marker": {
             "colorbar": {
              "outlinewidth": 0,
              "ticks": ""
             }
            },
            "type": "scatter3d"
           }
          ],
          "scattercarpet": [
           {
            "marker": {
             "colorbar": {
              "outlinewidth": 0,
              "ticks": ""
             }
            },
            "type": "scattercarpet"
           }
          ],
          "scattergeo": [
           {
            "marker": {
             "colorbar": {
              "outlinewidth": 0,
              "ticks": ""
             }
            },
            "type": "scattergeo"
           }
          ],
          "scattergl": [
           {
            "marker": {
             "colorbar": {
              "outlinewidth": 0,
              "ticks": ""
             }
            },
            "type": "scattergl"
           }
          ],
          "scattermapbox": [
           {
            "marker": {
             "colorbar": {
              "outlinewidth": 0,
              "ticks": ""
             }
            },
            "type": "scattermapbox"
           }
          ],
          "scatterpolar": [
           {
            "marker": {
             "colorbar": {
              "outlinewidth": 0,
              "ticks": ""
             }
            },
            "type": "scatterpolar"
           }
          ],
          "scatterpolargl": [
           {
            "marker": {
             "colorbar": {
              "outlinewidth": 0,
              "ticks": ""
             }
            },
            "type": "scatterpolargl"
           }
          ],
          "scatterternary": [
           {
            "marker": {
             "colorbar": {
              "outlinewidth": 0,
              "ticks": ""
             }
            },
            "type": "scatterternary"
           }
          ],
          "surface": [
           {
            "colorbar": {
             "outlinewidth": 0,
             "ticks": ""
            },
            "colorscale": [
             [
              0,
              "#0d0887"
             ],
             [
              0.1111111111111111,
              "#46039f"
             ],
             [
              0.2222222222222222,
              "#7201a8"
             ],
             [
              0.3333333333333333,
              "#9c179e"
             ],
             [
              0.4444444444444444,
              "#bd3786"
             ],
             [
              0.5555555555555556,
              "#d8576b"
             ],
             [
              0.6666666666666666,
              "#ed7953"
             ],
             [
              0.7777777777777778,
              "#fb9f3a"
             ],
             [
              0.8888888888888888,
              "#fdca26"
             ],
             [
              1,
              "#f0f921"
             ]
            ],
            "type": "surface"
           }
          ],
          "table": [
           {
            "cells": {
             "fill": {
              "color": "#EBF0F8"
             },
             "line": {
              "color": "white"
             }
            },
            "header": {
             "fill": {
              "color": "#C8D4E3"
             },
             "line": {
              "color": "white"
             }
            },
            "type": "table"
           }
          ]
         },
         "layout": {
          "annotationdefaults": {
           "arrowcolor": "#2a3f5f",
           "arrowhead": 0,
           "arrowwidth": 1
          },
          "autotypenumbers": "strict",
          "coloraxis": {
           "colorbar": {
            "outlinewidth": 0,
            "ticks": ""
           }
          },
          "colorscale": {
           "diverging": [
            [
             0,
             "#8e0152"
            ],
            [
             0.1,
             "#c51b7d"
            ],
            [
             0.2,
             "#de77ae"
            ],
            [
             0.3,
             "#f1b6da"
            ],
            [
             0.4,
             "#fde0ef"
            ],
            [
             0.5,
             "#f7f7f7"
            ],
            [
             0.6,
             "#e6f5d0"
            ],
            [
             0.7,
             "#b8e186"
            ],
            [
             0.8,
             "#7fbc41"
            ],
            [
             0.9,
             "#4d9221"
            ],
            [
             1,
             "#276419"
            ]
           ],
           "sequential": [
            [
             0,
             "#0d0887"
            ],
            [
             0.1111111111111111,
             "#46039f"
            ],
            [
             0.2222222222222222,
             "#7201a8"
            ],
            [
             0.3333333333333333,
             "#9c179e"
            ],
            [
             0.4444444444444444,
             "#bd3786"
            ],
            [
             0.5555555555555556,
             "#d8576b"
            ],
            [
             0.6666666666666666,
             "#ed7953"
            ],
            [
             0.7777777777777778,
             "#fb9f3a"
            ],
            [
             0.8888888888888888,
             "#fdca26"
            ],
            [
             1,
             "#f0f921"
            ]
           ],
           "sequentialminus": [
            [
             0,
             "#0d0887"
            ],
            [
             0.1111111111111111,
             "#46039f"
            ],
            [
             0.2222222222222222,
             "#7201a8"
            ],
            [
             0.3333333333333333,
             "#9c179e"
            ],
            [
             0.4444444444444444,
             "#bd3786"
            ],
            [
             0.5555555555555556,
             "#d8576b"
            ],
            [
             0.6666666666666666,
             "#ed7953"
            ],
            [
             0.7777777777777778,
             "#fb9f3a"
            ],
            [
             0.8888888888888888,
             "#fdca26"
            ],
            [
             1,
             "#f0f921"
            ]
           ]
          },
          "colorway": [
           "#636efa",
           "#EF553B",
           "#00cc96",
           "#ab63fa",
           "#FFA15A",
           "#19d3f3",
           "#FF6692",
           "#B6E880",
           "#FF97FF",
           "#FECB52"
          ],
          "font": {
           "color": "#2a3f5f"
          },
          "geo": {
           "bgcolor": "white",
           "lakecolor": "white",
           "landcolor": "#E5ECF6",
           "showlakes": true,
           "showland": true,
           "subunitcolor": "white"
          },
          "hoverlabel": {
           "align": "left"
          },
          "hovermode": "closest",
          "mapbox": {
           "style": "light"
          },
          "paper_bgcolor": "white",
          "plot_bgcolor": "#E5ECF6",
          "polar": {
           "angularaxis": {
            "gridcolor": "white",
            "linecolor": "white",
            "ticks": ""
           },
           "bgcolor": "#E5ECF6",
           "radialaxis": {
            "gridcolor": "white",
            "linecolor": "white",
            "ticks": ""
           }
          },
          "scene": {
           "xaxis": {
            "backgroundcolor": "#E5ECF6",
            "gridcolor": "white",
            "gridwidth": 2,
            "linecolor": "white",
            "showbackground": true,
            "ticks": "",
            "zerolinecolor": "white"
           },
           "yaxis": {
            "backgroundcolor": "#E5ECF6",
            "gridcolor": "white",
            "gridwidth": 2,
            "linecolor": "white",
            "showbackground": true,
            "ticks": "",
            "zerolinecolor": "white"
           },
           "zaxis": {
            "backgroundcolor": "#E5ECF6",
            "gridcolor": "white",
            "gridwidth": 2,
            "linecolor": "white",
            "showbackground": true,
            "ticks": "",
            "zerolinecolor": "white"
           }
          },
          "shapedefaults": {
           "line": {
            "color": "#2a3f5f"
           }
          },
          "ternary": {
           "aaxis": {
            "gridcolor": "white",
            "linecolor": "white",
            "ticks": ""
           },
           "baxis": {
            "gridcolor": "white",
            "linecolor": "white",
            "ticks": ""
           },
           "bgcolor": "#E5ECF6",
           "caxis": {
            "gridcolor": "white",
            "linecolor": "white",
            "ticks": ""
           }
          },
          "title": {
           "x": 0.05
          },
          "xaxis": {
           "automargin": true,
           "gridcolor": "white",
           "linecolor": "white",
           "ticks": "",
           "title": {
            "standoff": 15
           },
           "zerolinecolor": "white",
           "zerolinewidth": 2
          },
          "yaxis": {
           "automargin": true,
           "gridcolor": "white",
           "linecolor": "white",
           "ticks": "",
           "title": {
            "standoff": 15
           },
           "zerolinecolor": "white",
           "zerolinewidth": 2
          }
         }
        },
        "title": {
         "text": "Ridge"
        },
        "xaxis": {
         "anchor": "y",
         "domain": [
          0,
          1
         ],
         "title": {
          "text": "log_alpha"
         }
        },
        "yaxis": {
         "anchor": "x",
         "domain": [
          0,
          1
         ],
         "title": {
          "text": "test_mse"
         }
        }
       }
      },
      "text/html": [
       "<div>                        <script type=\"text/javascript\">window.PlotlyConfig = {MathJaxConfig: 'local'};</script>\n",
       "        <script charset=\"utf-8\" src=\"https://cdn.plot.ly/plotly-2.35.2.min.js\"></script>                <div id=\"fab4aa62-f818-436d-89c4-b154b0afd201\" class=\"plotly-graph-div\" style=\"height:100%; width:100%;\"></div>            <script type=\"text/javascript\">                                    window.PLOTLYENV=window.PLOTLYENV || {};                                    if (document.getElementById(\"fab4aa62-f818-436d-89c4-b154b0afd201\")) {                    Plotly.newPlot(                        \"fab4aa62-f818-436d-89c4-b154b0afd201\",                        [{\"hovertemplate\":\"log_alpha=%{x}\\u003cbr\\u003etest_mse=%{y}\\u003cextra\\u003e\\u003c\\u002fextra\\u003e\",\"legendgroup\":\"\",\"line\":{\"color\":\"#636efa\",\"dash\":\"solid\"},\"marker\":{\"symbol\":\"circle\"},\"mode\":\"lines\",\"name\":\"\",\"orientation\":\"v\",\"showlegend\":false,\"x\":[-2.3025850929940455,-2.139776046014669,-1.9769669990352918,-1.8141579520559146,-1.6513489050765378,-1.4885398580971607,-1.325730811117784,-1.162921764138407,-1.00011271715903,-0.837303670179653,-0.6744946232002759,-0.511685576220899,-0.34887652924152224,-0.18606748226214534,-0.023258435282768306,0.13955061169660865,0.3023596586759857,0.4651687056553626,0.6279777526347396,0.7907867996141167,0.9535958465934936,1.1164048935728705,1.2792139405522478,1.4420229875316246,1.6048320345110012,1.7676410814903782,1.930450128469755,2.0932591754491323,2.2560682224285094,2.4188772694078864,2.581686316387263,2.7444953633666405,2.907304410346017,3.0701134573253936,3.232922504304771,3.3957315512841477,3.558540598263525,3.7213496452429013,3.884158692222279,4.046967739201656,4.209776786181033,4.372585833160409,4.535394880139787,4.698203927119163,4.861012974098541,5.023822021077917,5.186631068057295,5.349440115036671,5.512249162016048,5.675058208995425,5.8378672559748015,6.000676302954179,6.163485349933556,6.3262943969129335,6.48910344389231,6.651912490871688,6.814721537851064,6.977530584830442,7.140339631809819,7.303148678789194,7.465957725768572,7.62876677274795,7.791575819727327,7.954384866706702,8.11719391368608,8.280002960665458,8.442812007644832,8.60562105462421,8.768430101603588,8.931239148582966,9.09404819556234,9.256857242541718,9.419666289521096,9.582475336500472,9.745284383479849,9.908093430459227,10.070902477438604,10.23371152441798,10.396520571397357,10.559329618376735,10.722138665356113,10.884947712335487,11.047756759314865,11.210565806294243,11.373374853273619,11.536183900252995,11.698992947232373,11.861801994211751,12.024611041191127,12.187420088170503,12.350229135149881,12.513038182129257,12.675847229108635,12.838656276088011,13.00146532306739,13.164274370046765,13.327083417026142,13.48989246400552,13.652701510984896,13.815510557964274],\"xaxis\":\"x\",\"y\":[2.823899731264421,2.8238997314729537,2.8238997317206773,2.8238997320154153,2.8238997323667148,2.8238997327862907,2.823899733288586,2.8238997338915093,2.823899734617403,2.8238997354943054,2.8238997365576397,2.823899737852448,2.823899739436382,2.823899741383724,2.8238997437908013,2.8238997467833142,2.8238997505262726,2.8238997552375222,2.82389976120618,2.823899768817834,2.8238997785890354,2.8238997912145805,2.8238998076324338,2.8238998291129356,2.8238998573815275,2.8238998947876968,2.8238999445376995,2.8239000110152963,2.8239001002239514,2.823900220396646,2.823900382836963,2.823900603079209,2.8239009024884765,2.823901310467112,2.823901867496534,2.823902629328982,2.823903672760795,2.823905103578505,2.823907067486246,2.8239097651174494,2.823913472631618,2.8239185699316227,2.8239255792517133,2.8239352178151624,2.823948469509438,2.8239666821540395,2.8239916990293463,2.8240260359844465,2.8240731187271426,2.8241375988637185,2.8242257718654273,2.8243461252185083,2.8245100501579783,2.8247327548324543,2.825034419241491,2.825441630937029,2.8259891326860074,2.826721895841925,2.827697502690152,2.828988774965441,2.8306865241218935,2.8329022269124837,2.8357703605796285,2.839450088792172,2.8441260050721553,2.8500077503991528,2.8573285500314882,2.8663430524741123,2.8773252371182023,2.890567457929447,2.906381733696291,2.925104013124024,2.9471012545534574,2.9727798447345037,3.002592407096538,3.0370388335677267,3.076656878457153,3.121998262373954,3.1735881378717155,3.2318688705163945,3.2971329468881185,3.369453636563931,3.448624755878427,3.5341214653626962,3.6250918473990965,3.7203842019996514,3.8186086050917565,3.9182249471835804,4.017645092314803,4.115335067669831,4.209904486315826,4.300174017593395,4.385216441652988,4.464371408368605,4.53723755012896,4.603647651168346,4.663633188565518,4.71738406581159,4.76520820621547,4.807494275728551],\"yaxis\":\"y\",\"type\":\"scatter\"}],                        {\"template\":{\"data\":{\"histogram2dcontour\":[{\"type\":\"histogram2dcontour\",\"colorbar\":{\"outlinewidth\":0,\"ticks\":\"\"},\"colorscale\":[[0.0,\"#0d0887\"],[0.1111111111111111,\"#46039f\"],[0.2222222222222222,\"#7201a8\"],[0.3333333333333333,\"#9c179e\"],[0.4444444444444444,\"#bd3786\"],[0.5555555555555556,\"#d8576b\"],[0.6666666666666666,\"#ed7953\"],[0.7777777777777778,\"#fb9f3a\"],[0.8888888888888888,\"#fdca26\"],[1.0,\"#f0f921\"]]}],\"choropleth\":[{\"type\":\"choropleth\",\"colorbar\":{\"outlinewidth\":0,\"ticks\":\"\"}}],\"histogram2d\":[{\"type\":\"histogram2d\",\"colorbar\":{\"outlinewidth\":0,\"ticks\":\"\"},\"colorscale\":[[0.0,\"#0d0887\"],[0.1111111111111111,\"#46039f\"],[0.2222222222222222,\"#7201a8\"],[0.3333333333333333,\"#9c179e\"],[0.4444444444444444,\"#bd3786\"],[0.5555555555555556,\"#d8576b\"],[0.6666666666666666,\"#ed7953\"],[0.7777777777777778,\"#fb9f3a\"],[0.8888888888888888,\"#fdca26\"],[1.0,\"#f0f921\"]]}],\"heatmap\":[{\"type\":\"heatmap\",\"colorbar\":{\"outlinewidth\":0,\"ticks\":\"\"},\"colorscale\":[[0.0,\"#0d0887\"],[0.1111111111111111,\"#46039f\"],[0.2222222222222222,\"#7201a8\"],[0.3333333333333333,\"#9c179e\"],[0.4444444444444444,\"#bd3786\"],[0.5555555555555556,\"#d8576b\"],[0.6666666666666666,\"#ed7953\"],[0.7777777777777778,\"#fb9f3a\"],[0.8888888888888888,\"#fdca26\"],[1.0,\"#f0f921\"]]}],\"heatmapgl\":[{\"type\":\"heatmapgl\",\"colorbar\":{\"outlinewidth\":0,\"ticks\":\"\"},\"colorscale\":[[0.0,\"#0d0887\"],[0.1111111111111111,\"#46039f\"],[0.2222222222222222,\"#7201a8\"],[0.3333333333333333,\"#9c179e\"],[0.4444444444444444,\"#bd3786\"],[0.5555555555555556,\"#d8576b\"],[0.6666666666666666,\"#ed7953\"],[0.7777777777777778,\"#fb9f3a\"],[0.8888888888888888,\"#fdca26\"],[1.0,\"#f0f921\"]]}],\"contourcarpet\":[{\"type\":\"contourcarpet\",\"colorbar\":{\"outlinewidth\":0,\"ticks\":\"\"}}],\"contour\":[{\"type\":\"contour\",\"colorbar\":{\"outlinewidth\":0,\"ticks\":\"\"},\"colorscale\":[[0.0,\"#0d0887\"],[0.1111111111111111,\"#46039f\"],[0.2222222222222222,\"#7201a8\"],[0.3333333333333333,\"#9c179e\"],[0.4444444444444444,\"#bd3786\"],[0.5555555555555556,\"#d8576b\"],[0.6666666666666666,\"#ed7953\"],[0.7777777777777778,\"#fb9f3a\"],[0.8888888888888888,\"#fdca26\"],[1.0,\"#f0f921\"]]}],\"surface\":[{\"type\":\"surface\",\"colorbar\":{\"outlinewidth\":0,\"ticks\":\"\"},\"colorscale\":[[0.0,\"#0d0887\"],[0.1111111111111111,\"#46039f\"],[0.2222222222222222,\"#7201a8\"],[0.3333333333333333,\"#9c179e\"],[0.4444444444444444,\"#bd3786\"],[0.5555555555555556,\"#d8576b\"],[0.6666666666666666,\"#ed7953\"],[0.7777777777777778,\"#fb9f3a\"],[0.8888888888888888,\"#fdca26\"],[1.0,\"#f0f921\"]]}],\"mesh3d\":[{\"type\":\"mesh3d\",\"colorbar\":{\"outlinewidth\":0,\"ticks\":\"\"}}],\"scatter\":[{\"fillpattern\":{\"fillmode\":\"overlay\",\"size\":10,\"solidity\":0.2},\"type\":\"scatter\"}],\"parcoords\":[{\"type\":\"parcoords\",\"line\":{\"colorbar\":{\"outlinewidth\":0,\"ticks\":\"\"}}}],\"scatterpolargl\":[{\"type\":\"scatterpolargl\",\"marker\":{\"colorbar\":{\"outlinewidth\":0,\"ticks\":\"\"}}}],\"bar\":[{\"error_x\":{\"color\":\"#2a3f5f\"},\"error_y\":{\"color\":\"#2a3f5f\"},\"marker\":{\"line\":{\"color\":\"#E5ECF6\",\"width\":0.5},\"pattern\":{\"fillmode\":\"overlay\",\"size\":10,\"solidity\":0.2}},\"type\":\"bar\"}],\"scattergeo\":[{\"type\":\"scattergeo\",\"marker\":{\"colorbar\":{\"outlinewidth\":0,\"ticks\":\"\"}}}],\"scatterpolar\":[{\"type\":\"scatterpolar\",\"marker\":{\"colorbar\":{\"outlinewidth\":0,\"ticks\":\"\"}}}],\"histogram\":[{\"marker\":{\"pattern\":{\"fillmode\":\"overlay\",\"size\":10,\"solidity\":0.2}},\"type\":\"histogram\"}],\"scattergl\":[{\"type\":\"scattergl\",\"marker\":{\"colorbar\":{\"outlinewidth\":0,\"ticks\":\"\"}}}],\"scatter3d\":[{\"type\":\"scatter3d\",\"line\":{\"colorbar\":{\"outlinewidth\":0,\"ticks\":\"\"}},\"marker\":{\"colorbar\":{\"outlinewidth\":0,\"ticks\":\"\"}}}],\"scattermapbox\":[{\"type\":\"scattermapbox\",\"marker\":{\"colorbar\":{\"outlinewidth\":0,\"ticks\":\"\"}}}],\"scatterternary\":[{\"type\":\"scatterternary\",\"marker\":{\"colorbar\":{\"outlinewidth\":0,\"ticks\":\"\"}}}],\"scattercarpet\":[{\"type\":\"scattercarpet\",\"marker\":{\"colorbar\":{\"outlinewidth\":0,\"ticks\":\"\"}}}],\"carpet\":[{\"aaxis\":{\"endlinecolor\":\"#2a3f5f\",\"gridcolor\":\"white\",\"linecolor\":\"white\",\"minorgridcolor\":\"white\",\"startlinecolor\":\"#2a3f5f\"},\"baxis\":{\"endlinecolor\":\"#2a3f5f\",\"gridcolor\":\"white\",\"linecolor\":\"white\",\"minorgridcolor\":\"white\",\"startlinecolor\":\"#2a3f5f\"},\"type\":\"carpet\"}],\"table\":[{\"cells\":{\"fill\":{\"color\":\"#EBF0F8\"},\"line\":{\"color\":\"white\"}},\"header\":{\"fill\":{\"color\":\"#C8D4E3\"},\"line\":{\"color\":\"white\"}},\"type\":\"table\"}],\"barpolar\":[{\"marker\":{\"line\":{\"color\":\"#E5ECF6\",\"width\":0.5},\"pattern\":{\"fillmode\":\"overlay\",\"size\":10,\"solidity\":0.2}},\"type\":\"barpolar\"}],\"pie\":[{\"automargin\":true,\"type\":\"pie\"}]},\"layout\":{\"autotypenumbers\":\"strict\",\"colorway\":[\"#636efa\",\"#EF553B\",\"#00cc96\",\"#ab63fa\",\"#FFA15A\",\"#19d3f3\",\"#FF6692\",\"#B6E880\",\"#FF97FF\",\"#FECB52\"],\"font\":{\"color\":\"#2a3f5f\"},\"hovermode\":\"closest\",\"hoverlabel\":{\"align\":\"left\"},\"paper_bgcolor\":\"white\",\"plot_bgcolor\":\"#E5ECF6\",\"polar\":{\"bgcolor\":\"#E5ECF6\",\"angularaxis\":{\"gridcolor\":\"white\",\"linecolor\":\"white\",\"ticks\":\"\"},\"radialaxis\":{\"gridcolor\":\"white\",\"linecolor\":\"white\",\"ticks\":\"\"}},\"ternary\":{\"bgcolor\":\"#E5ECF6\",\"aaxis\":{\"gridcolor\":\"white\",\"linecolor\":\"white\",\"ticks\":\"\"},\"baxis\":{\"gridcolor\":\"white\",\"linecolor\":\"white\",\"ticks\":\"\"},\"caxis\":{\"gridcolor\":\"white\",\"linecolor\":\"white\",\"ticks\":\"\"}},\"coloraxis\":{\"colorbar\":{\"outlinewidth\":0,\"ticks\":\"\"}},\"colorscale\":{\"sequential\":[[0.0,\"#0d0887\"],[0.1111111111111111,\"#46039f\"],[0.2222222222222222,\"#7201a8\"],[0.3333333333333333,\"#9c179e\"],[0.4444444444444444,\"#bd3786\"],[0.5555555555555556,\"#d8576b\"],[0.6666666666666666,\"#ed7953\"],[0.7777777777777778,\"#fb9f3a\"],[0.8888888888888888,\"#fdca26\"],[1.0,\"#f0f921\"]],\"sequentialminus\":[[0.0,\"#0d0887\"],[0.1111111111111111,\"#46039f\"],[0.2222222222222222,\"#7201a8\"],[0.3333333333333333,\"#9c179e\"],[0.4444444444444444,\"#bd3786\"],[0.5555555555555556,\"#d8576b\"],[0.6666666666666666,\"#ed7953\"],[0.7777777777777778,\"#fb9f3a\"],[0.8888888888888888,\"#fdca26\"],[1.0,\"#f0f921\"]],\"diverging\":[[0,\"#8e0152\"],[0.1,\"#c51b7d\"],[0.2,\"#de77ae\"],[0.3,\"#f1b6da\"],[0.4,\"#fde0ef\"],[0.5,\"#f7f7f7\"],[0.6,\"#e6f5d0\"],[0.7,\"#b8e186\"],[0.8,\"#7fbc41\"],[0.9,\"#4d9221\"],[1,\"#276419\"]]},\"xaxis\":{\"gridcolor\":\"white\",\"linecolor\":\"white\",\"ticks\":\"\",\"title\":{\"standoff\":15},\"zerolinecolor\":\"white\",\"automargin\":true,\"zerolinewidth\":2},\"yaxis\":{\"gridcolor\":\"white\",\"linecolor\":\"white\",\"ticks\":\"\",\"title\":{\"standoff\":15},\"zerolinecolor\":\"white\",\"automargin\":true,\"zerolinewidth\":2},\"scene\":{\"xaxis\":{\"backgroundcolor\":\"#E5ECF6\",\"gridcolor\":\"white\",\"linecolor\":\"white\",\"showbackground\":true,\"ticks\":\"\",\"zerolinecolor\":\"white\",\"gridwidth\":2},\"yaxis\":{\"backgroundcolor\":\"#E5ECF6\",\"gridcolor\":\"white\",\"linecolor\":\"white\",\"showbackground\":true,\"ticks\":\"\",\"zerolinecolor\":\"white\",\"gridwidth\":2},\"zaxis\":{\"backgroundcolor\":\"#E5ECF6\",\"gridcolor\":\"white\",\"linecolor\":\"white\",\"showbackground\":true,\"ticks\":\"\",\"zerolinecolor\":\"white\",\"gridwidth\":2}},\"shapedefaults\":{\"line\":{\"color\":\"#2a3f5f\"}},\"annotationdefaults\":{\"arrowcolor\":\"#2a3f5f\",\"arrowhead\":0,\"arrowwidth\":1},\"geo\":{\"bgcolor\":\"white\",\"landcolor\":\"#E5ECF6\",\"subunitcolor\":\"white\",\"showland\":true,\"showlakes\":true,\"lakecolor\":\"white\"},\"title\":{\"x\":0.05},\"mapbox\":{\"style\":\"light\"}}},\"xaxis\":{\"anchor\":\"y\",\"domain\":[0.0,1.0],\"title\":{\"text\":\"log_alpha\"}},\"yaxis\":{\"anchor\":\"x\",\"domain\":[0.0,1.0],\"title\":{\"text\":\"test_mse\"}},\"legend\":{\"tracegroupgap\":0},\"title\":{\"text\":\"Ridge\"}},                        {\"responsive\": true}                    )                };                            </script>        </div>"
      ],
      "text/plain": [
       "Figure({\n",
       "    'data': [{'hovertemplate': 'log_alpha=%{x}<br>test_mse=%{y}<extra></extra>',\n",
       "              'legendgroup': '',\n",
       "              'line': {'color': '#636efa', 'dash': 'solid'},\n",
       "              'marker': {'symbol': 'circle'},\n",
       "              'mode': 'lines',\n",
       "              'name': '',\n",
       "              'orientation': 'v',\n",
       "              'showlegend': False,\n",
       "              'type': 'scatter',\n",
       "              'x': array([-2.30258509, -2.13977605, -1.976967  , -1.81415795, -1.65134891,\n",
       "                          -1.48853986, -1.32573081, -1.16292176, -1.00011272, -0.83730367,\n",
       "                          -0.67449462, -0.51168558, -0.34887653, -0.18606748, -0.02325844,\n",
       "                           0.13955061,  0.30235966,  0.46516871,  0.62797775,  0.7907868 ,\n",
       "                           0.95359585,  1.11640489,  1.27921394,  1.44202299,  1.60483203,\n",
       "                           1.76764108,  1.93045013,  2.09325918,  2.25606822,  2.41887727,\n",
       "                           2.58168632,  2.74449536,  2.90730441,  3.07011346,  3.2329225 ,\n",
       "                           3.39573155,  3.5585406 ,  3.72134965,  3.88415869,  4.04696774,\n",
       "                           4.20977679,  4.37258583,  4.53539488,  4.69820393,  4.86101297,\n",
       "                           5.02382202,  5.18663107,  5.34944012,  5.51224916,  5.67505821,\n",
       "                           5.83786726,  6.0006763 ,  6.16348535,  6.3262944 ,  6.48910344,\n",
       "                           6.65191249,  6.81472154,  6.97753058,  7.14033963,  7.30314868,\n",
       "                           7.46595773,  7.62876677,  7.79157582,  7.95438487,  8.11719391,\n",
       "                           8.28000296,  8.44281201,  8.60562105,  8.7684301 ,  8.93123915,\n",
       "                           9.0940482 ,  9.25685724,  9.41966629,  9.58247534,  9.74528438,\n",
       "                           9.90809343, 10.07090248, 10.23371152, 10.39652057, 10.55932962,\n",
       "                          10.72213867, 10.88494771, 11.04775676, 11.21056581, 11.37337485,\n",
       "                          11.5361839 , 11.69899295, 11.86180199, 12.02461104, 12.18742009,\n",
       "                          12.35022914, 12.51303818, 12.67584723, 12.83865628, 13.00146532,\n",
       "                          13.16427437, 13.32708342, 13.48989246, 13.65270151, 13.81551056]),\n",
       "              'xaxis': 'x',\n",
       "              'y': array([2.82389973, 2.82389973, 2.82389973, 2.82389973, 2.82389973, 2.82389973,\n",
       "                          2.82389973, 2.82389973, 2.82389973, 2.82389974, 2.82389974, 2.82389974,\n",
       "                          2.82389974, 2.82389974, 2.82389974, 2.82389975, 2.82389975, 2.82389976,\n",
       "                          2.82389976, 2.82389977, 2.82389978, 2.82389979, 2.82389981, 2.82389983,\n",
       "                          2.82389986, 2.82389989, 2.82389994, 2.82390001, 2.8239001 , 2.82390022,\n",
       "                          2.82390038, 2.8239006 , 2.8239009 , 2.82390131, 2.82390187, 2.82390263,\n",
       "                          2.82390367, 2.8239051 , 2.82390707, 2.82390977, 2.82391347, 2.82391857,\n",
       "                          2.82392558, 2.82393522, 2.82394847, 2.82396668, 2.8239917 , 2.82402604,\n",
       "                          2.82407312, 2.8241376 , 2.82422577, 2.82434613, 2.82451005, 2.82473275,\n",
       "                          2.82503442, 2.82544163, 2.82598913, 2.8267219 , 2.8276975 , 2.82898877,\n",
       "                          2.83068652, 2.83290223, 2.83577036, 2.83945009, 2.84412601, 2.85000775,\n",
       "                          2.85732855, 2.86634305, 2.87732524, 2.89056746, 2.90638173, 2.92510401,\n",
       "                          2.94710125, 2.97277984, 3.00259241, 3.03703883, 3.07665688, 3.12199826,\n",
       "                          3.17358814, 3.23186887, 3.29713295, 3.36945364, 3.44862476, 3.53412147,\n",
       "                          3.62509185, 3.7203842 , 3.81860861, 3.91822495, 4.01764509, 4.11533507,\n",
       "                          4.20990449, 4.30017402, 4.38521644, 4.46437141, 4.53723755, 4.60364765,\n",
       "                          4.66363319, 4.71738407, 4.76520821, 4.80749428]),\n",
       "              'yaxis': 'y'}],\n",
       "    'layout': {'legend': {'tracegroupgap': 0},\n",
       "               'template': '...',\n",
       "               'title': {'text': 'Ridge'},\n",
       "               'xaxis': {'anchor': 'y', 'domain': [0.0, 1.0], 'title': {'text': 'log_alpha'}},\n",
       "               'yaxis': {'anchor': 'x', 'domain': [0.0, 1.0], 'title': {'text': 'test_mse'}}}\n",
       "})"
      ]
     },
     "execution_count": 19,
     "metadata": {},
     "output_type": "execute_result"
    }
   ],
   "source": [
    "alphas = np.logspace(-1, 6, 100)\n",
    "ridge_cv_scores = []\n",
    "# create a for loop to compute the cross-validation score for each alpha value\n",
    "for alpha in alphas:\n",
    "    ridge = Ridge(alpha=alpha)\n",
    "    ridge_cv = cross_validate(estimator=ridge,\n",
    "                              X=X_std,\n",
    "                              y=y,\n",
    "                              cv=10,\n",
    "                              scoring='neg_root_mean_squared_error')\n",
    "    ridge_cv_scores.append({'alpha': alpha,\n",
    "                            'log_alpha': np.log(alpha),\n",
    "                            'test_mse': -np.mean(ridge_cv['test_score'])})\n",
    "\n",
    "# convert the cross-validation scores into a data frame\n",
    "ridge_cv_scores_df = pd.DataFrame(ridge_cv_scores)\n",
    "\n",
    "# plot the cross-validation scores as a function of alpha\n",
    "px.line(ridge_cv_scores_df,\n",
    "        x='log_alpha',\n",
    "        y='test_mse',\n",
    "        title='Ridge')"
   ]
  },
  {
   "cell_type": "code",
   "execution_count": 20,
   "metadata": {},
   "outputs": [
    {
     "data": {
      "text/html": [
       "<div>\n",
       "<style scoped>\n",
       "    .dataframe tbody tr th:only-of-type {\n",
       "        vertical-align: middle;\n",
       "    }\n",
       "\n",
       "    .dataframe tbody tr th {\n",
       "        vertical-align: top;\n",
       "    }\n",
       "\n",
       "    .dataframe thead th {\n",
       "        text-align: right;\n",
       "    }\n",
       "</style>\n",
       "<table border=\"1\" class=\"dataframe\">\n",
       "  <thead>\n",
       "    <tr style=\"text-align: right;\">\n",
       "      <th></th>\n",
       "      <th>alpha</th>\n",
       "      <th>log_alpha</th>\n",
       "      <th>test_mse</th>\n",
       "    </tr>\n",
       "  </thead>\n",
       "  <tbody>\n",
       "    <tr>\n",
       "      <th>0</th>\n",
       "      <td>0.100000</td>\n",
       "      <td>-2.302585</td>\n",
       "      <td>2.823900</td>\n",
       "    </tr>\n",
       "    <tr>\n",
       "      <th>1</th>\n",
       "      <td>0.117681</td>\n",
       "      <td>-2.139776</td>\n",
       "      <td>2.823900</td>\n",
       "    </tr>\n",
       "    <tr>\n",
       "      <th>2</th>\n",
       "      <td>0.138489</td>\n",
       "      <td>-1.976967</td>\n",
       "      <td>2.823900</td>\n",
       "    </tr>\n",
       "    <tr>\n",
       "      <th>3</th>\n",
       "      <td>0.162975</td>\n",
       "      <td>-1.814158</td>\n",
       "      <td>2.823900</td>\n",
       "    </tr>\n",
       "    <tr>\n",
       "      <th>4</th>\n",
       "      <td>0.191791</td>\n",
       "      <td>-1.651349</td>\n",
       "      <td>2.823900</td>\n",
       "    </tr>\n",
       "    <tr>\n",
       "      <th>...</th>\n",
       "      <td>...</td>\n",
       "      <td>...</td>\n",
       "      <td>...</td>\n",
       "    </tr>\n",
       "    <tr>\n",
       "      <th>95</th>\n",
       "      <td>521400.828800</td>\n",
       "      <td>13.164274</td>\n",
       "      <td>4.603648</td>\n",
       "    </tr>\n",
       "    <tr>\n",
       "      <th>96</th>\n",
       "      <td>613590.727341</td>\n",
       "      <td>13.327083</td>\n",
       "      <td>4.663633</td>\n",
       "    </tr>\n",
       "    <tr>\n",
       "      <th>97</th>\n",
       "      <td>722080.901839</td>\n",
       "      <td>13.489892</td>\n",
       "      <td>4.717384</td>\n",
       "    </tr>\n",
       "    <tr>\n",
       "      <th>98</th>\n",
       "      <td>849753.435909</td>\n",
       "      <td>13.652702</td>\n",
       "      <td>4.765208</td>\n",
       "    </tr>\n",
       "    <tr>\n",
       "      <th>99</th>\n",
       "      <td>1000000.000000</td>\n",
       "      <td>13.815511</td>\n",
       "      <td>4.807494</td>\n",
       "    </tr>\n",
       "  </tbody>\n",
       "</table>\n",
       "<p>100 rows × 3 columns</p>\n",
       "</div>"
      ],
      "text/plain": [
       "             alpha  log_alpha  test_mse\n",
       "0         0.100000  -2.302585  2.823900\n",
       "1         0.117681  -2.139776  2.823900\n",
       "2         0.138489  -1.976967  2.823900\n",
       "3         0.162975  -1.814158  2.823900\n",
       "4         0.191791  -1.651349  2.823900\n",
       "..             ...        ...       ...\n",
       "95   521400.828800  13.164274  4.603648\n",
       "96   613590.727341  13.327083  4.663633\n",
       "97   722080.901839  13.489892  4.717384\n",
       "98   849753.435909  13.652702  4.765208\n",
       "99  1000000.000000  13.815511  4.807494\n",
       "\n",
       "[100 rows x 3 columns]"
      ]
     },
     "execution_count": 20,
     "metadata": {},
     "output_type": "execute_result"
    }
   ],
   "source": [
    "ridge_cv_scores_df "
   ]
  },
  {
   "cell_type": "code",
   "execution_count": 23,
   "metadata": {},
   "outputs": [],
   "source": [
    "\n",
    "# identify the value of alpha that minimizes the cross-validation score for ridge\n",
    "ridge_alpha_min = ridge_cv_scores_df.sort_values(by='test_mse').head(1).alpha.values[0]\n",
    "# compute the min MSE and the SE of the MSE\n",
    "mse_se_ridge = ridge_cv_scores_df['test_mse'].std() / np.sqrt(10)\n",
    "mse_min_ridge = ridge_cv_scores_df['test_mse'].min()\n",
    "\n",
    "\n",
    "# identify the value of alpha that minimizes the cross-validation score for ridge within 1SE\n",
    "ridge_alpha_1se = ridge_cv_scores_df[(ridge_cv_scores_df['test_mse'] <= mse_min_ridge + mse_se_ridge) &\n",
    "                                     (ridge_cv_scores_df['test_mse'] >= mse_min_ridge - mse_se_ridge)].sort_values(by='alpha', ascending=False).head(1).alpha.values[0]\n"
   ]
  },
  {
   "cell_type": "code",
   "execution_count": 24,
   "metadata": {},
   "outputs": [
    {
     "name": "stdout",
     "output_type": "stream",
     "text": [
      "Ridge (min):  0.1\n",
      "Ridge (1SE):  14508.287784959402\n",
      "Lasso (min):  0.1\n",
      "Lasso (1SE):  0.8111308307896871\n"
     ]
    }
   ],
   "source": [
    "print('Ridge (min): ', ridge_alpha_min)\n",
    "print('Ridge (1SE): ', ridge_alpha_1se)\n",
    "print('Lasso (min): ', lasso_alpha_min)\n",
    "print('Lasso (1SE): ', lasso_alpha_1se)"
   ]
  }
 ],
 "metadata": {
  "kernelspec": {
   "display_name": ".venv",
   "language": "python",
   "name": "python3"
  },
  "language_info": {
   "codemirror_mode": {
    "name": "ipython",
    "version": 3
   },
   "file_extension": ".py",
   "mimetype": "text/x-python",
   "name": "python",
   "nbconvert_exporter": "python",
   "pygments_lexer": "ipython3",
   "version": "3.12.7"
  }
 },
 "nbformat": 4,
 "nbformat_minor": 2
}
