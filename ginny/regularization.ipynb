{
  "cells": [
    {
      "cell_type": "code",
      "execution_count": 20,
      "metadata": {
        "colab": {
          "base_uri": "https://localhost:8080/"
        },
        "id": "NveXJZPKc_We",
        "outputId": "69776249-6de3-4670-db9a-6d9cde39e7f0"
      },
      "outputs": [],
      "source": [
        "import pandas as pd\n",
        "import matplotlib.pyplot as plt\n",
        "import seaborn as sns\n",
        "from sklearn.preprocessing import LabelEncoder\n",
        "\n",
        "# df = pd.read_csv(\"~/cs148proj/M148_Project/spotify_dataset.csv\")\n",
        "# df = pd.read_excel(\"/Users/ginyghang/cs148proj/M148_Project/hannah/clean_data.xlsx\")"
      ]
    },
    {
      "cell_type": "markdown",
      "metadata": {},
      "source": [
        "Regularization (both Ridge and Lasso)"
      ]
    },
    {
      "cell_type": "code",
      "execution_count": 17,
      "metadata": {},
      "outputs": [],
      "source": [
        "from sklearn.linear_model import  Ridge, Lasso\n",
        "from sklearn.model_selection import cross_val_score, cross_validate\n"
      ]
    },
    {
      "cell_type": "code",
      "execution_count": 18,
      "metadata": {},
      "outputs": [
        {
          "ename": "AttributeError",
          "evalue": "'list' object has no attribute 'mean'",
          "output_type": "error",
          "traceback": [
            "\u001b[0;31m---------------------------------------------------------------------------\u001b[0m",
            "\u001b[0;31mAttributeError\u001b[0m                            Traceback (most recent call last)",
            "Cell \u001b[0;32mIn[18], line 4\u001b[0m\n\u001b[1;32m      2\u001b[0m X \u001b[38;5;241m=\u001b[39m []\n\u001b[1;32m      3\u001b[0m \u001b[38;5;66;03m# scale the predictors\u001b[39;00m\n\u001b[0;32m----> 4\u001b[0m X_std \u001b[38;5;241m=\u001b[39m (X \u001b[38;5;241m-\u001b[39m \u001b[43mX\u001b[49m\u001b[38;5;241;43m.\u001b[39;49m\u001b[43mmean\u001b[49m()) \u001b[38;5;241m/\u001b[39m X\u001b[38;5;241m.\u001b[39mstd()\n\u001b[1;32m      5\u001b[0m y \u001b[38;5;241m=\u001b[39m []\n",
            "\u001b[0;31mAttributeError\u001b[0m: 'list' object has no attribute 'mean'"
          ]
        }
      ],
      "source": [
        "# change this\n",
        "X = []\n",
        "# scale the predictors\n",
        "X_std = (X - X.mean()) / X.std()\n",
        "y = []"
      ]
    },
    {
      "cell_type": "markdown",
      "metadata": {},
      "source": [
        "Perform Ridge Regression\n",
        "Using 10-fold cross-validation to select the best lambda (alpha) value for the ridge regression model"
      ]
    },
    {
      "cell_type": "code",
      "execution_count": null,
      "metadata": {},
      "outputs": [],
      "source": [
        "# note that the start/stop values in the first two arguments are the exponents\n",
        "alphas = np.logspace(-1, 6, 100)\n",
        "\n",
        "# create an empty list to store the cross-validation scores\n",
        "ridge_cv_scores = []\n",
        "\n",
        "# create a for loop to compute the cross-validation score for each alpha value\n",
        "for alpha in alphas:\n",
        "    ridge = Ridge(alpha=alpha)\n",
        "    ridge_cv = cross_validate(estimator=ridge,\n",
        "                              X=X_std,\n",
        "                              y=y,\n",
        "                              cv=10,\n",
        "                              scoring='neg_root_mean_squared_error')\n",
        "    ridge_cv_scores.append({'alpha': alpha,\n",
        "                            'log_alpha': np.log(alpha),\n",
        "                            'test_mse': -np.mean(ridge_cv['test_score'])})\n",
        "\n",
        "# convert the cross-validation scores into a data frame\n",
        "ridge_cv_scores_df = pd.DataFrame(ridge_cv_scores)\n",
        "\n",
        "# plot the cross-validation scores as a function of alpha\n",
        "px.line(ridge_cv_scores_df,\n",
        "        x='log_alpha',\n",
        "        y='test_mse',\n",
        "        title='Ridge')"
      ]
    },
    {
      "cell_type": "markdown",
      "metadata": {},
      "source": [
        "Perform Lasso Regression\n",
        "Using 10-fold cross-validation to select the best lambda (alpha) value for the lasso regression model"
      ]
    },
    {
      "cell_type": "code",
      "execution_count": null,
      "metadata": {},
      "outputs": [],
      "source": [
        "# define the alpha values to test\n",
        "alphas = np.logspace(-1, 4, 100)\n",
        "\n",
        "# create an empty list to store the cross-validation scores\n",
        "lasso_cv_scores = []\n",
        "\n",
        "# create a for loop to compute the cross-validation score for each alpha value\n",
        "for alpha in alphas:\n",
        "    lasso = Lasso(alpha=alpha)\n",
        "    lasso_cv = cross_validate(estimator=lasso,\n",
        "                              X=X_std,\n",
        "                              y=y,\n",
        "                              cv=10,\n",
        "                              scoring='neg_root_mean_squared_error')\n",
        "    lasso_cv_scores.append({'alpha': alpha,\n",
        "                            'log_alpha': np.log(alpha),\n",
        "                            'test_mse': -np.mean(lasso_cv['test_score'])})\n",
        "\n",
        "# convert the cross-validation scores into a data frame\n",
        "lasso_cv_scores_df = pd.DataFrame(lasso_cv_scores)\n",
        "\n",
        "# plot the cross-validation scores as a function of alpha\n",
        "px.line(lasso_cv_scores_df,\n",
        "        x='log_alpha',\n",
        "        y='test_mse',\n",
        "        title='Lasso')"
      ]
    },
    {
      "cell_type": "markdown",
      "metadata": {},
      "source": [
        "Get the best alpha values for each fit (ridge and lasso)"
      ]
    },
    {
      "cell_type": "code",
      "execution_count": null,
      "metadata": {},
      "outputs": [],
      "source": [
        "# identify the value of alpha that minimizes the cross-validation score for ridge\n",
        "ridge_alpha_min = ridge_cv_scores_df.sort_values(by='test_mse').head(1).alpha.values[0]\n",
        "# compute the min MSE and the SE of the MSE\n",
        "mse_se_ridge = ridge_cv_scores_df['test_mse'].std() / np.sqrt(10)\n",
        "mse_min_ridge = ridge_cv_scores_df['test_mse'].min()\n",
        "\n",
        "\n",
        "# identify the value of alpha that minimizes the cross-validation score for ridge within 1SE\n",
        "ridge_alpha_1se = ridge_cv_scores_df[(ridge_cv_scores_df['test_mse'] <= mse_min_ridge + mse_se_ridge) &\n",
        "                                     (ridge_cv_scores_df['test_mse'] >= mse_min_ridge - mse_se_ridge)].sort_values(by='alpha', ascending=False).head(1).alpha.values[0]\n",
        "\n",
        "\n",
        "# identify the value of alpha that minimizes the cross-validation score for lasso\n",
        "lasso_alpha_min = lasso_cv_scores_df.sort_values(by='test_mse').head(1).alpha.values[0]\n",
        "# compute the min MSE and the SE of the MSE\n",
        "mse_se_lasso = lasso_cv_scores_df['test_mse'].std() / np.sqrt(10)\n",
        "mse_min_lasso = lasso_cv_scores_df['test_mse'].min()\n",
        "\n",
        "# identify the value of alpha that minimizes the cross-validation score for lasso within 1SE\n",
        "lasso_alpha_1se = lasso_cv_scores_df[(lasso_cv_scores_df['test_mse'] <= mse_min_lasso + mse_se_lasso) &\n",
        "                                     (lasso_cv_scores_df['test_mse'] >= mse_min_lasso - mse_se_lasso)].sort_values(by='alpha', ascending=False).head(1).alpha.values[0]\n"
      ]
    },
    {
      "cell_type": "code",
      "execution_count": null,
      "metadata": {},
      "outputs": [],
      "source": [
        "print('Ridge (min): ', ridge_alpha_min)\n",
        "print('Ridge (1SE): ', ridge_alpha_1se)\n",
        "print('Lasso (min): ', lasso_alpha_min)\n",
        "print('Lasso (1SE): ', lasso_alpha_1se)"
      ]
    },
    {
      "cell_type": "markdown",
      "metadata": {},
      "source": [
        "Fit the ridge and lasso models"
      ]
    },
    {
      "cell_type": "code",
      "execution_count": null,
      "metadata": {},
      "outputs": [],
      "source": [
        "# use ridge_alpha_min to fit the ridge regression model\n",
        "ridge_min_fit = Ridge(alpha=ridge_alpha_min).fit(X=X_std, y=y)\n",
        "ridge_1se_fit = Ridge(alpha=ridge_alpha_1se).fit(X=X_std, y=y)\n",
        "\n",
        "# use lasso_alpha_min to fit the lasso regression model\n",
        "lasso_min_fit = Lasso(alpha=lasso_alpha_min).fit(X=X_std, y=y)\n",
        "lasso_1se_fit = Lasso(alpha=lasso_alpha_1se).fit(X=X_std, y=y)"
      ]
    }
  ],
  "metadata": {
    "colab": {
      "provenance": []
    },
    "kernelspec": {
      "display_name": "env",
      "language": "python",
      "name": "python3"
    },
    "language_info": {
      "codemirror_mode": {
        "name": "ipython",
        "version": 3
      },
      "file_extension": ".py",
      "mimetype": "text/x-python",
      "name": "python",
      "nbconvert_exporter": "python",
      "pygments_lexer": "ipython3",
      "version": "3.9.0"
    }
  },
  "nbformat": 4,
  "nbformat_minor": 0
}
